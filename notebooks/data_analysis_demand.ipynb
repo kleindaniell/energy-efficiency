{
 "cells": [
  {
   "cell_type": "code",
   "execution_count": null,
   "metadata": {},
   "outputs": [],
   "source": [
    "import pandas as pd\n",
    "from pathlib import Path\n",
    "import numpy as np\n",
    "\n",
    "import plotly.express as px\n",
    "import seaborn as sns\n",
    "import matplotlib.pyplot as plt\n",
    "\n",
    "from sklearn.preprocessing import Normalizer, MinMaxScaler, StandardScaler, RobustScaler\n",
    "from sklearn.decomposition import TruncatedSVD\n",
    "\n",
    "from sklearn.cluster import KMeans, DBSCAN, AgglomerativeClustering\n",
    "from scipy.cluster.hierarchy import dendrogram, linkage\n",
    "from sklearn.metrics import pairwise_distances, silhouette_score"
   ]
  },
  {
   "cell_type": "code",
   "execution_count": null,
   "metadata": {},
   "outputs": [],
   "source": [
    "processed_data_path = Path(\"../data/processed/cadastro_clientes_demanda.xlsx\").resolve()\n",
    "\n",
    "data = pd.read_excel(processed_data_path)\n",
    "data"
   ]
  },
  {
   "cell_type": "code",
   "execution_count": null,
   "metadata": {},
   "outputs": [],
   "source": [
    "data = data.drop([\"Empresa\", \"Classe\"], axis=1)\n",
    "data"
   ]
  },
  {
   "cell_type": "code",
   "execution_count": null,
   "metadata": {},
   "outputs": [],
   "source": [
    "dummies_columns = data.drop(\n",
    "    [\"Instalação\", \"Demanda contratada (kW)\", \"GD_Beneficiária\", \"GD_Geradora\"], axis=1\n",
    "    ).columns\n",
    "X = pd.get_dummies(\n",
    "    data.drop([\"Instalação\", \"Demanda contratada (kW)\"], axis=1),\n",
    "    columns=list(dummies_columns)\n",
    "    )\n",
    "X"
   ]
  },
  {
   "cell_type": "code",
   "execution_count": null,
   "metadata": {},
   "outputs": [],
   "source": [
    "cor_matrix = X.corr(method=\"spearman\").abs()\n",
    "tri_lower = cor_matrix.where(np.tril(np.ones(cor_matrix.shape), k=-1).astype(bool))\n",
    "sns.heatmap(tri_lower, annot=True, fmt=\"0.1f\")\n",
    "plt.show()"
   ]
  },
  {
   "cell_type": "code",
   "execution_count": null,
   "metadata": {},
   "outputs": [],
   "source": [
    "# X_pos = X.drop([\"Classificação_-\", \"Tipo_Alta/Media Tensão \", \"Tipo_THS_ Azul\", \"Operando_THS_ Azul\"], axis=1)\n",
    "X_pos = X.drop([\"Classificação_-\", \"Classificação_Livre\", \"Tipo_Livre \", \"Operando_Livre \", \"Tipo_THS_ Verde\", \"Operando_THS_ Verde\", \"Horário_Normal\"], axis=1)\n",
    "\n",
    "cor_matrix = X_pos.corr(method=\"spearman\")\n",
    "tri_lower = cor_matrix.where(np.tril(np.ones(cor_matrix.shape), k=-1).astype(bool))\n",
    "sns.heatmap(tri_lower, annot=True, fmt=\"0.1f\")\n",
    "plt.show()\n"
   ]
  },
  {
   "cell_type": "code",
   "execution_count": null,
   "metadata": {},
   "outputs": [],
   "source": [
    "scores = []\n",
    "for n_cluster in range(2,10):\n",
    "    agg_clustering = AgglomerativeClustering(n_clusters=n_cluster)\n",
    "    y_pred = agg_clustering.fit_predict(X_pos)\n",
    "    distance_matrix = pairwise_distances(X_pos.astype(int), metric=\"hamming\")\n",
    "    score = silhouette_score(distance_matrix, y_pred, metric=\"precomputed\")\n",
    "    scores.append(score)\n",
    "\n",
    "plt.plot(list(range(2,10)), scores)\n",
    "plt.show()"
   ]
  },
  {
   "cell_type": "code",
   "execution_count": null,
   "metadata": {},
   "outputs": [],
   "source": [
    "svd = TruncatedSVD(n_components=2, random_state=5)\n",
    "X_reduced = pd.DataFrame(svd.fit_transform(X), columns=[\"f1\", \"f2\"])\n",
    "X_reduced[\"cluster\"] = y_pred\n",
    "print(svd.explained_variance_ratio_.sum())\n",
    "sns.scatterplot(X_reduced, x=\"f1\", y=\"f2\", hue=\"cluster\")\n",
    "plt.show()"
   ]
  },
  {
   "cell_type": "code",
   "execution_count": null,
   "metadata": {},
   "outputs": [],
   "source": [
    "\n",
    "clustering = DBSCAN()\n",
    "y_pred = clustering.fit_predict(X_pos)\n",
    "distance_matrix = pairwise_distances(X_pos.astype(int), metric=\"hamming\")\n",
    "score = silhouette_score(distance_matrix, y_pred, metric=\"precomputed\")\n",
    "print(f\"clusters {len(set(clustering.labels_))}\")\n",
    "print(score)\n",
    "\n"
   ]
  },
  {
   "cell_type": "code",
   "execution_count": null,
   "metadata": {},
   "outputs": [],
   "source": [
    "data[\"cluster\"] = y_pred"
   ]
  },
  {
   "cell_type": "markdown",
   "metadata": {},
   "source": [
    "Cluster 0\n",
    "Classificaçào: Cativo\n",
    "Alta/Media Tensao\n",
    "Alta/Media Tensao\n",
    "Normal\n",
    "Verde\n",
    "Verde\n",
    "Geradora\n"
   ]
  },
  {
   "cell_type": "code",
   "execution_count": null,
   "metadata": {},
   "outputs": [],
   "source": [
    "data.loc[data[\"cluster\"]==0]"
   ]
  },
  {
   "cell_type": "code",
   "execution_count": null,
   "metadata": {},
   "outputs": [],
   "source": [
    "data.loc[data[\"cluster\"]==1]"
   ]
  },
  {
   "cell_type": "code",
   "execution_count": null,
   "metadata": {},
   "outputs": [],
   "source": [
    "data.loc[data[\"cluster\"]==2]"
   ]
  },
  {
   "cell_type": "code",
   "execution_count": null,
   "metadata": {},
   "outputs": [],
   "source": [
    "data.loc[data[\"cluster\"]==3]"
   ]
  },
  {
   "cell_type": "code",
   "execution_count": null,
   "metadata": {},
   "outputs": [],
   "source": [
    "data.loc[data[\"cluster\"]==4]"
   ]
  },
  {
   "cell_type": "code",
   "execution_count": null,
   "metadata": {},
   "outputs": [],
   "source": [
    "data.loc[data[\"cluster\"]==5]"
   ]
  },
  {
   "cell_type": "code",
   "execution_count": null,
   "metadata": {},
   "outputs": [],
   "source": [
    "data.loc[data[\"cluster\"]==6]"
   ]
  },
  {
   "cell_type": "code",
   "execution_count": null,
   "metadata": {},
   "outputs": [],
   "source": [
    "data.loc[data[\"cluster\"]==7]"
   ]
  },
  {
   "cell_type": "code",
   "execution_count": null,
   "metadata": {},
   "outputs": [],
   "source": [
    "data.loc[data[\"cluster\"]==8]"
   ]
  },
  {
   "cell_type": "code",
   "execution_count": null,
   "metadata": {},
   "outputs": [],
   "source": [
    "# data.pivot_table(index=\"Instalação\", columns=\"cluster\", values=\"cluster\")\n",
    "data_pivot = pd.pivot_table(data, values=\"Demanda contratada (kW)\", index=\"Instalação\", columns=\"cluster\")\n",
    "\n",
    "data_pivot[\"total\"] = data_pivot.count(axis=1)\n",
    "data_pivot\n",
    "\n"
   ]
  },
  {
   "cell_type": "code",
   "execution_count": null,
   "metadata": {},
   "outputs": [],
   "source": [
    "data_pivot.to_excel(\"../data/processed/cliente_clusters_demanda.xlsx\")"
   ]
  },
  {
   "cell_type": "code",
   "execution_count": null,
   "metadata": {},
   "outputs": [],
   "source": [
    "data.to_excel(\"../data/processed/cadastro_demanda_clusters.xlsx\", index=False)"
   ]
  },
  {
   "cell_type": "code",
   "execution_count": null,
   "metadata": {},
   "outputs": [],
   "source": []
  }
 ],
 "metadata": {
  "kernelspec": {
   "display_name": "fapergs",
   "language": "python",
   "name": "python3"
  },
  "language_info": {
   "codemirror_mode": {
    "name": "ipython",
    "version": 3
   },
   "file_extension": ".py",
   "mimetype": "text/x-python",
   "name": "python",
   "nbconvert_exporter": "python",
   "pygments_lexer": "ipython3",
   "version": "3.12.0"
  }
 },
 "nbformat": 4,
 "nbformat_minor": 2
}
