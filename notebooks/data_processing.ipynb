{
 "cells": [
  {
   "cell_type": "code",
   "execution_count": null,
   "metadata": {},
   "outputs": [],
   "source": [
    "import pandas as pd\n",
    "from pathlib import Path\n",
    "import numpy as np"
   ]
  },
  {
   "cell_type": "markdown",
   "metadata": {},
   "source": [
    "## Fatura - Aba principal"
   ]
  },
  {
   "cell_type": "code",
   "execution_count": null,
   "metadata": {},
   "outputs": [],
   "source": [
    "raw_data_path = Path(\"../data/raw/CPFL-RS-Informações industrial grupo A.xlsx\").resolve()\n",
    "\n",
    "processed_data_folder = Path(\"../data/processed\").resolve()\n",
    "processed_data_folder.mkdir(parents=True, exist_ok=True)\n",
    "\n",
    "data = pd.read_excel(raw_data_path)\n",
    "data.head(30)"
   ]
  },
  {
   "cell_type": "code",
   "execution_count": null,
   "metadata": {},
   "outputs": [],
   "source": [
    "columns_vars = data.iloc[3,0:7].values\n",
    "columns_months = data.iloc[2,7:19].values\n",
    "data_columns = np.append(columns_vars, columns_months)\n",
    "\n",
    "data_consumption = data.iloc[:,0:19]\n",
    "data_consumption.columns = data_columns\n",
    "data_consumption = data_consumption.drop([0,1,2,3])\n",
    "data_consumption = data_consumption.melt(columns_vars).dropna(subset=\"value\")\n",
    "data_consumption[\"value\"] = pd.to_numeric(data_consumption[\"value\"])\n",
    "data_consumption[\"grupo\"] = \"consumo\"\n",
    "\n",
    "data_demand = pd.concat([data.iloc[:,0:7], data.iloc[:,19:31]], axis=1)\n",
    "data_demand.columns = data_columns\n",
    "data_demand = data_demand.drop([0,1,2,3])\n",
    "data_demand = data_demand.melt(columns_vars).dropna(subset=\"value\")\n",
    "data_demand[\"value\"] = pd.to_numeric(data_demand[\"value\"])\n",
    "data_demand[\"grupo\"] = \"demanda\"\n",
    "\n",
    "data_fer = pd.concat([data.iloc[:,0:7], data.iloc[:,31:]], axis=1)\n",
    "data_fer.columns = data_columns\n",
    "data_fer = data_fer.drop([0,1,2,3])\n",
    "data_fer = data_fer.melt(columns_vars).dropna(subset=\"value\")\n",
    "data_fer[\"value\"] = pd.to_numeric(data_fer[\"value\"])\n",
    "data_fer[\"grupo\"] = \"fer\"\n",
    "\n",
    "data_all = pd.concat(\n",
    "    [data_consumption, data_demand, data_fer],\n",
    "    axis=0\n",
    ")\n",
    "\n",
    "data_all.rename(columns={\"variable\": \"Meses\", \"value\": \"Valores\"}, inplace=True)\n",
    "data_all"
   ]
  },
  {
   "cell_type": "markdown",
   "metadata": {},
   "source": [
    "## Padrões de clientes"
   ]
  },
  {
   "cell_type": "code",
   "execution_count": null,
   "metadata": {},
   "outputs": [],
   "source": [
    "client_data = data_all[[\"Nº instalação\", \"Classe de cálculo\", \"SubGrupo de Tensão\", \"Município\"]]\n",
    "client_data = client_data.groupby(\"Nº instalação\").max().reset_index()\n",
    "client_data.to_csv(\"../data/processed/clientes.csv\")"
   ]
  },
  {
   "cell_type": "markdown",
   "metadata": {},
   "source": [
    "## Energia Injetada"
   ]
  },
  {
   "cell_type": "code",
   "execution_count": null,
   "metadata": {},
   "outputs": [],
   "source": [
    "data_inj = pd.read_excel(raw_data_path, sheet_name=\"Energia injetada\")\n",
    "data_inj"
   ]
  },
  {
   "cell_type": "code",
   "execution_count": null,
   "metadata": {},
   "outputs": [],
   "source": [
    "columns_vars = data_inj.iloc[3,0:2].values\n",
    "columns_months = data_inj.iloc[2,2:14].values\n",
    "data_columns = np.append(columns_vars, columns_months)\n",
    "\n",
    "data_inj.columns = data_columns\n",
    "data_inj[\"Item Faturamento BW\"] = \"InjetadaTrue\"\n",
    "data_inj[\"SubAgrupador de Fatu\"] = \"Injetada\"\n",
    "data_inj[\"grupo\"] = \"injetada\"\n",
    "columns_vars = np.append(columns_vars, \"Item Faturamento BW\")\n",
    "columns_vars = np.append(columns_vars, \"SubAgrupador de Fatu\")\n",
    "columns_vars = np.append(columns_vars, \"grupo\")\n",
    "data_inj = data_inj.drop([0,1,2,3])\n",
    "data_inj = data_inj.melt(columns_vars, value_vars=columns_months)\n",
    "data_inj.rename(columns={\"variable\": \"Meses\", \"value\": \"Valores\"}, inplace=True)\n",
    "\n",
    "data_inj = pd.merge(data_inj, client_data, how=\"left\", on=\"Nº instalação\")\n",
    "\n",
    "data_inj"
   ]
  },
  {
   "cell_type": "code",
   "execution_count": null,
   "metadata": {},
   "outputs": [],
   "source": [
    "data_all = pd.concat(\n",
    "    [data_all, data_inj],\n",
    "    axis=0\n",
    ")\n",
    "data_all"
   ]
  },
  {
   "cell_type": "code",
   "execution_count": null,
   "metadata": {},
   "outputs": [],
   "source": [
    "file_save_path = processed_data_folder / f\"consumo_tarifas_meses.xlsx\"\n",
    "data_all.to_excel(file_save_path, index=False)"
   ]
  },
  {
   "cell_type": "markdown",
   "metadata": {},
   "source": [
    "## Demanda Contratada"
   ]
  },
  {
   "cell_type": "code",
   "execution_count": null,
   "metadata": {},
   "outputs": [],
   "source": [
    "data_cont = pd.read_excel(raw_data_path, sheet_name=\"Demanda contratada\")\n",
    "data_cont"
   ]
  },
  {
   "cell_type": "code",
   "execution_count": null,
   "metadata": {},
   "outputs": [],
   "source": [
    "# Process Tipo\n",
    "data_cont[[\"Tipo\", \"Tipo_THS\"]] = data_cont[\"Tipo\"].str.split(\"THS\", expand= True)\n",
    "data_cont[\"Tipo\"] = data_cont[\"Tipo\"].str.replace(pat=\":\", repl=\"\")\n",
    "# Process Operando\n",
    "data_cont[[\"Operando\", \"Operando_THS\"]] = data_cont[\"Operando\"].str.split(\"THS\", expand=True)\n",
    "data_cont[\"Operando\"] = data_cont[\"Operando\"].str.replace(pat=\":\", repl=\"\")\n",
    "# Process Classificação GD\n",
    "data_cont[\"Classificação GD\"] = data_cont[\"Classificação GD\"].apply(lambda x: str(x)[4:-1] if x != \"-\" else x)\n",
    "# Get Dummies from Classificação GD\n",
    "data_cont = pd.get_dummies(data_cont, columns=[\"Classificação GD\"], prefix=\"GD\")\n",
    "data_cont.loc[data_cont[\"GD_Geradora&Beneficiária\"], [\"GD_Beneficiária\", \"GD_Geradora\"]] = True\n",
    "data_cont = data_cont.drop([\"GD_Geradora&Beneficiária\", \"GD_-\"], axis=1)\n",
    "data_cont"
   ]
  },
  {
   "cell_type": "code",
   "execution_count": null,
   "metadata": {},
   "outputs": [],
   "source": [
    "file_save_path = processed_data_folder / f\"cadastro_clientes_demanda.xlsx\"\n",
    "data_cont.to_excel(file_save_path, index=False)"
   ]
  },
  {
   "cell_type": "code",
   "execution_count": null,
   "metadata": {},
   "outputs": [],
   "source": []
  }
 ],
 "metadata": {
  "kernelspec": {
   "display_name": "fapergs",
   "language": "python",
   "name": "python3"
  },
  "language_info": {
   "codemirror_mode": {
    "name": "ipython",
    "version": 3
   },
   "file_extension": ".py",
   "mimetype": "text/x-python",
   "name": "python",
   "nbconvert_exporter": "python",
   "pygments_lexer": "ipython3",
   "version": "3.12.0"
  }
 },
 "nbformat": 4,
 "nbformat_minor": 2
}
