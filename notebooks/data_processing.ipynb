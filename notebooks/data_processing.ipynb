{
 "cells": [
  {
   "cell_type": "code",
   "execution_count": null,
   "metadata": {},
   "outputs": [],
   "source": [
    "import pandas as pd\n",
    "from pathlib import Path\n",
    "import numpy as np"
   ]
  },
  {
   "cell_type": "code",
   "execution_count": null,
   "metadata": {},
   "outputs": [],
   "source": [
    "raw_data_path = Path(\"../data/raw/CPFL-RS-Informações industrial grupo A.xlsx\").resolve()\n",
    "\n",
    "processed_data_folder = Path(\"../data/processed\").resolve()\n",
    "processed_data_folder.mkdir(parents=True, exist_ok=True)\n",
    "\n",
    "data = pd.read_excel(raw_data_path)\n",
    "data.head(30)"
   ]
  },
  {
   "cell_type": "code",
   "execution_count": null,
   "metadata": {},
   "outputs": [],
   "source": [
    "columns_vars = data.iloc[3,0:7].values\n",
    "columns_months = data.iloc[2,7:19].values\n",
    "data_columns = np.append(columns_vars, columns_months)\n",
    "\n",
    "data_consumption = data.iloc[:,0:19]\n",
    "data_consumption.columns = data_columns\n",
    "data_consumption = data_consumption.drop([0,1,2,3])\n",
    "data_consumption = data_consumption.melt(columns_vars).dropna(subset=\"value\")\n",
    "data_consumption[\"value\"] = pd.to_numeric(data_consumption[\"value\"])\n",
    "\n",
    "data_demand = pd.concat([data.iloc[:,0:7], data.iloc[:,19:31]], axis=1)\n",
    "data_demand.columns = data_columns\n",
    "data_demand = data_demand.drop([0,1,2,3])\n",
    "data_demand = data_demand.melt(columns_vars).dropna(subset=\"value\")\n",
    "data_demand[\"value\"] = pd.to_numeric(data_demand[\"value\"])\n",
    "\n",
    "data_fer = pd.concat([data.iloc[:,0:7], data.iloc[:,31:]], axis=1)\n",
    "data_fer.columns = data_columns\n",
    "data_fer = data_fer.drop([0,1,2,3])\n",
    "data_fer = data_fer.melt(columns_vars).dropna(subset=\"value\")\n",
    "data_fer[\"value\"] = pd.to_numeric(data_fer[\"value\"])\n",
    "\n",
    "data_all = pd.concat(\n",
    "    [data_consumption, data_demand, data_fer],\n",
    "    axis=0\n",
    ")\n",
    "\n",
    "file_save_path = processed_data_folder / raw_data_path.name \n",
    "data_all.to_csv(file_save_path, index=False)\n"
   ]
  },
  {
   "cell_type": "code",
   "execution_count": null,
   "metadata": {},
   "outputs": [],
   "source": []
  }
 ],
 "metadata": {
  "kernelspec": {
   "display_name": "fapergs",
   "language": "python",
   "name": "python3"
  },
  "language_info": {
   "codemirror_mode": {
    "name": "ipython",
    "version": 3
   },
   "file_extension": ".py",
   "mimetype": "text/x-python",
   "name": "python",
   "nbconvert_exporter": "python",
   "pygments_lexer": "ipython3",
   "version": "3.11.11"
  }
 },
 "nbformat": 4,
 "nbformat_minor": 2
}
