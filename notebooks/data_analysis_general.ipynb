{
 "cells": [
  {
   "cell_type": "code",
   "execution_count": null,
   "metadata": {},
   "outputs": [],
   "source": [
    "import pandas as pd\n",
    "from pathlib import Path\n",
    "import numpy as np\n",
    "\n",
    "import plotly.express as px\n",
    "import seaborn as sns\n",
    "import matplotlib.pyplot as plt"
   ]
  },
  {
   "cell_type": "code",
   "execution_count": null,
   "metadata": {},
   "outputs": [],
   "source": [
    "processed_data_path = Path(\"../data/processed/consumo_tarifas_meses.xlsx\").resolve()\n",
    "\n",
    "data = pd.read_excel(processed_data_path)\n",
    "data"
   ]
  },
  {
   "cell_type": "code",
   "execution_count": null,
   "metadata": {},
   "outputs": [],
   "source": [
    "# Remover negativos\n",
    "data.loc[data[\"Valores\"]<0, \"Valores\"] *= -1\n",
    "# Ajustar formato da columa Meses\n",
    "data[\"Meses\"] = data[\"Meses\"].apply(lambda x: int(str(x).split(\".\")[0]))"
   ]
  },
  {
   "cell_type": "code",
   "execution_count": null,
   "metadata": {},
   "outputs": [],
   "source": [
    "data[\"Item Faturamento BW\"] = data[\"Item Faturamento BW\"].apply(lambda x: str(x).replace(\" \",\"\"))\n",
    "for i, item in enumerate(np.sort(data[\"Item Faturamento BW\"].unique())):\n",
    "    print(f\"{i+1:02d} - {item}\")\n"
   ]
  },
  {
   "cell_type": "code",
   "execution_count": null,
   "metadata": {},
   "outputs": [],
   "source": [
    "data[\"SubAgrupador de Fatu\"] = data[\"SubAgrupador de Fatu\"].apply(lambda x: str(x).replace(\" \",\"\"))\n",
    "for i, item in enumerate(np.sort(data[\"SubAgrupador de Fatu\"].unique())):\n",
    "    print(f\"{i+1:02d} - {item}\")\n"
   ]
  },
  {
   "cell_type": "code",
   "execution_count": null,
   "metadata": {},
   "outputs": [],
   "source": [
    "data[\"grupo\"] = data[\"grupo\"].apply(lambda x: str(x).replace(\" \",\"\"))\n",
    "for i, item in enumerate(np.sort(data[\"grupo\"].unique())):\n",
    "    print(f\"{i+1:02d} - {item}\")"
   ]
  },
  {
   "cell_type": "code",
   "execution_count": null,
   "metadata": {},
   "outputs": [],
   "source": [
    "index = [\n",
    "    'Empresa',\n",
    "    'Nº instalação',\n",
    "    \"Meses\"\n",
    "    ]\n",
    "\n",
    "columns = \"Item Faturamento BW\"\n",
    "value = \"Valores\"\n",
    "\n",
    "data_piv = pd.pivot_table(data, values=value, index=index, columns=columns)\n",
    "\n",
    "data_piv = data_piv.reset_index()\n",
    "\n",
    "data_piv[\"EnergAtvInj.mUCoPT-FPTE\"] = data_piv[\"EnergAtvInj.mUCoPT-FPTE\"] + data_piv[\"EnergAtvInj.mUCoPT-FP-TE\"]\n",
    "data_piv = data_piv.drop(\"EnergAtvInj.mUCoPT-FP-TE\", axis=1)\n",
    "data_piv\n",
    "\n"
   ]
  },
  {
   "cell_type": "markdown",
   "metadata": {},
   "source": [
    "# Extração de características"
   ]
  },
  {
   "cell_type": "code",
   "execution_count": null,
   "metadata": {},
   "outputs": [],
   "source": [
    "data_feat = pd.DataFrame()\n",
    "keys = [\"Nº instalação\", \"SubAgrupador de Fatu\"]\n",
    "\n",
    "for (cliente, grupo), grouped_df in data.groupby(by=keys):\n",
    "    \n",
    "    keys_2 = keys.copy()\n",
    "    keys_2.append(\"Meses\")\n",
    "    df_tmp = pd.DataFrame()\n",
    "    df_tmp[\"cliente\"] = cliente,\n",
    "    df_tmp[\"grupo\"] = grupo,\n",
    "    df_tmp[\"count\"] = grouped_df[\"Meses\"].unique().shape[0],\n",
    "    df_tmp[\"initial\"] = grouped_df[\"Meses\"].min(),\n",
    "    df_tmp[\"last\"] = grouped_df[\"Meses\"].max(),\n",
    "    df_tmp[\"mean\"] = float(round(grouped_df.groupby(keys_2).sum()[\"Valores\"].mean(),4)),\n",
    "    df_tmp[\"max\"] = float(round(grouped_df.groupby(keys_2).sum()[\"Valores\"].max(),4)),\n",
    "    df_tmp[\"min\"] = float(round(grouped_df.groupby(keys_2).sum()[\"Valores\"].min(),4)),\n",
    "    df_tmp[\"total\"] = float(round(grouped_df.groupby(keys_2).sum()[\"Valores\"].sum(),4)),\n",
    "    df_tmp[\"amplitude\"] = df_tmp[\"max\"] - df_tmp[\"min\"]\n",
    "    df_tmp[\"std\"] = float(round(grouped_df.groupby(keys_2).sum()[\"Valores\"].std(),4))\n",
    "    # break\n",
    "    data_feat = pd.concat([data_feat, df_tmp])\n",
    "\n"
   ]
  },
  {
   "cell_type": "code",
   "execution_count": null,
   "metadata": {},
   "outputs": [],
   "source": [
    "values = [\n",
    "    \"count\",\n",
    "    \"initial\",\n",
    "    \"last\",\n",
    "    \"mean\",\n",
    "    \"max\",\n",
    "    \"min\",\n",
    "    \"total\",\n",
    "    \"amplitude\",\n",
    "    \"std\"\n",
    "]\n",
    "\n",
    "data_feat_pivot = pd.pivot_table(data_feat, values=values, columns=\"grupo\", index=\"cliente\")\n",
    "data_feat_pivot.columns = ['_'.join(col).strip() for col in data_feat_pivot.columns]\n",
    "data_feat_pivot = data_feat_pivot.reset_index(drop=False)\n",
    "data_feat_pivot = data_feat_pivot.fillna(0)"
   ]
  },
  {
   "cell_type": "code",
   "execution_count": null,
   "metadata": {},
   "outputs": [],
   "source": [
    "data_feat_pivot.columns"
   ]
  },
  {
   "cell_type": "code",
   "execution_count": null,
   "metadata": {},
   "outputs": [],
   "source": [
    "plt.figure(figsize=(14,5))\n",
    "plt.subplot(1,6,1)\n",
    "sns.boxplot(data_feat_pivot, y=\"mean_Consumo\")\n",
    "plt.ylabel(\"Media mensal do Consumo de Energia (KWh)\")\n",
    "plt.subplot(1,6,2)\n",
    "sns.boxplot(data_feat_pivot, y=\"mean_Demanda\")\n",
    "plt.ylabel(\"Média mensal da Demanda Contratada (KW)\")\n",
    "plt.subplot(1,6,3)\n",
    "sns.boxplot(data_feat_pivot, y=\"mean_TE\")\n",
    "plt.ylabel(\"Média mensal do Consumo Uso Sist.Dist. (KWh)\")\n",
    "plt.ticklabel_format(style='plain', axis='y')\n",
    "plt.subplot(1,6,4)\n",
    "sns.boxplot(data_feat_pivot, y=\"mean_TUSD\")\n",
    "plt.ylabel(\"Média mensal da Demanda Uso Sist.Dist. (KW)\")\n",
    "plt.subplot(1,6,5)\n",
    "sns.boxplot(data_feat_pivot, y=\"mean_FER\")\n",
    "plt.ylabel(\"Média mensal da Energia Reativa (KWh)\")\n",
    "plt.subplot(1,6,6)\n",
    "sns.boxplot(data_feat_pivot, y=\"mean_Injetada\")\n",
    "plt.ylabel(\"Média mensal da Energia Inetada (KWh)\")\n",
    "plt.tight_layout()\n",
    "plt.show()"
   ]
  },
  {
   "cell_type": "code",
   "execution_count": null,
   "metadata": {},
   "outputs": [],
   "source": [
    "plt.figure(figsize=(8,5))\n",
    "sns.histplot(data_feat_pivot, x=\"mean_Consumo\")\n",
    "plt.xlabel(\"Média mensal do Consumo de Energia (KWh)\")\n",
    "plt.ylabel(\"Quantiade de clientes\")\n",
    "plt.title(\"Distribuição do consumo mensal dos clientes\")\n",
    "plt.show()"
   ]
  },
  {
   "cell_type": "code",
   "execution_count": null,
   "metadata": {},
   "outputs": [],
   "source": [
    "pairplot_vars = [\n",
    "    \"mean_Consumo\",\n",
    "    \"mean_Demanda\",\n",
    "    \"mean_TE\",\n",
    "    \"mean_TUSD\",\n",
    "    \"mean_FER\",\n",
    "    \"mean_Injetada\"\n",
    "]\n",
    "sns.pairplot(data_feat_pivot.loc[:, pairplot_vars], height=1.5, aspect=1.9)\n",
    "plt.show()"
   ]
  },
  {
   "cell_type": "markdown",
   "metadata": {},
   "source": [
    "### Agrupamentos\n",
    "0 = Clientes do Mercado Livre (Sem consumo, demanda contratada e geração).\n",
    "\n",
    "1 = Clientes que migraram para o Mercado Livre durante 2024. (Finalizaram 2024 com TUSD)\n",
    "\n",
    "2 = Clientes que geram energia ativamente (Finalizaram o ano de 2024 Injetando Energia).\n",
    "\n",
    "3 = Clientes que não geram energia (Sem geração ou compensação de energia)."
   ]
  },
  {
   "cell_type": "code",
   "execution_count": null,
   "metadata": {},
   "outputs": [],
   "source": [
    "data_feat_pivot[\"grupo\"] = -1\n",
    "\n",
    "# Set group 3 - Livre\n",
    "data_feat_pivot.loc[\n",
    "    (\n",
    "        (data_feat_pivot[\"mean_Consumo\"]==0) &\n",
    "        (data_feat_pivot[\"mean_Demanda\"]==0) &\n",
    "        (data_feat_pivot[\"mean_Injetada\"]==0) &\n",
    "        (data_feat_pivot[\"grupo\"]==-1)\n",
    "    ),\n",
    "    \"grupo\"\n",
    "    ] = 3\n",
    "\n",
    "# Set group 2 - Cativo -> Livre\n",
    "data_feat_pivot.loc[\n",
    "    (\n",
    "        (data_feat_pivot[\"count_Consumo\"]!=0) &\n",
    "        (data_feat_pivot[\"last_TUSD\"]==12) &\n",
    "        (data_feat_pivot[\"last_TE\"]==12) &\n",
    "        (data_feat_pivot[\"grupo\"]==-1)\n",
    "    ),\n",
    "    \"grupo\"\n",
    "    ] = 2\n",
    "\n",
    "# Set group 1 - Cativo com Geração\n",
    "data_feat_pivot.loc[\n",
    "    (\n",
    "        (data_feat_pivot[\"mean_Injetada\"]!=0) &\n",
    "        (data_feat_pivot[\"last_Injetada\"]==12) & \n",
    "        (data_feat_pivot[\"grupo\"]==-1)\n",
    "    ),\n",
    "    \"grupo\"\n",
    "    ] = 1\n",
    "\n",
    "# Set group 0 - Cativos sem Geração\n",
    "data_feat_pivot.loc[\n",
    "    (\n",
    "        (data_feat_pivot[\"mean_Consumo\"]!=0) &\n",
    "        (data_feat_pivot[\"mean_Demanda\"]!=0) &\n",
    "        (data_feat_pivot[\"mean_Injetada\"]==0) &\n",
    "        (data_feat_pivot[\"mean_TUSD\"]==0) &\n",
    "        (data_feat_pivot[\"mean_EnergiaCompensada\"]==0) &\n",
    "        (data_feat_pivot[\"mean_Geração\"]==0) &\n",
    "        (data_feat_pivot[\"initial_Consumo\"]==1) &\n",
    "        (data_feat_pivot[\"last_Consumo\"]==12) &\n",
    "        (data_feat_pivot[\"grupo\"]==-1)\n",
    "    ),\n",
    "    \"grupo\"\n",
    "    ] = 0\n",
    "\n",
    "group_dict = {\n",
    "    -1: \"Outliers\",\n",
    "    0: \"Cativos\",\n",
    "    1: \"Cativos Geradores\",\n",
    "    2: \"Em Transição\",\n",
    "    3: \"Mercado Livre\"\n",
    "}\n",
    "\n",
    "data_feat_pivot[\"grupo\"].value_counts()"
   ]
  },
  {
   "cell_type": "code",
   "execution_count": null,
   "metadata": {},
   "outputs": [],
   "source": [
    "pairplot_vars = [\n",
    "    \"mean_Consumo\",\n",
    "    \"mean_Demanda\",\n",
    "    \"mean_TE\",\n",
    "    \"mean_TUSD\",\n",
    "    \"mean_FER\",\n",
    "    \"mean_Injetada\",\n",
    "    \"grupo\"\n",
    "]\n",
    "sns.pairplot(data_feat_pivot.loc[:, pairplot_vars],\n",
    "             height=1.5, aspect=1.9,\n",
    "             vars=pairplot_vars[0:-1], \n",
    "             hue=\"grupo\",\n",
    "             palette=\"Set1\")\n",
    "plt.show()"
   ]
  },
  {
   "cell_type": "code",
   "execution_count": null,
   "metadata": {},
   "outputs": [],
   "source": [
    "group_count = data_feat_pivot[\"grupo\"].value_counts()\n",
    "\n",
    "group_color = {\n",
    "    0: \"#01108b\",\n",
    "    1: \"#39c9e6\",\n",
    "    2: \"#f9a907\",\n",
    "    3: \"#820808\",\n",
    "    -1: \"#999999\",\n",
    "}\n",
    "\n",
    "total = group_count.sum()\n",
    "percentages = group_count / total * 100\n",
    "labels = [f\"{group_dict[idx]}: {val} ({pct:.1f}%)\" for idx, val, pct in zip(group_count.index, group_count.values, percentages)]\n",
    "\n",
    "palette = sns.color_palette(\"tab10\", n_colors=len(data))\n",
    "\n",
    "plt.pie(group_count, labels=labels,\n",
    "        explode=[0.01,0.01,0.01,0.01,0.01],\n",
    "        colors=[group_color[x] for x in group_count.keys()]\n",
    "        )\n",
    "plt.show()\n",
    "# group_count.keys()"
   ]
  },
  {
   "cell_type": "code",
   "execution_count": null,
   "metadata": {},
   "outputs": [],
   "source": [
    "color = [group_color[x] for x in group_count.keys()]\n",
    "color"
   ]
  },
  {
   "cell_type": "code",
   "execution_count": null,
   "metadata": {},
   "outputs": [],
   "source": [
    "list(group_color.values())"
   ]
  },
  {
   "cell_type": "code",
   "execution_count": null,
   "metadata": {},
   "outputs": [],
   "source": [
    "data_feat_pivot.to_excel(Path(\"../data/processed/clientes_features.xlsx\"), index=False)"
   ]
  },
  {
   "cell_type": "code",
   "execution_count": null,
   "metadata": {},
   "outputs": [],
   "source": [
    "mask_parallel = data_feat_pivot.columns.str.contains(\"mean|cliente|grupo\", regex=True, case=False)\n",
    "\n",
    "data_parallel = data_feat_pivot.loc[\n",
    "    data_feat_pivot[\"grupo\"]!=-1,\n",
    "    mask_parallel\n",
    "]\n",
    "data_parallel\n",
    "\n",
    "parallel_dimensions = list(\n",
    "    data_feat_pivot.columns[\n",
    "        data_feat_pivot.columns.str.contains(\"mean|grupo\", regex=True, case=False)\n",
    "    ]\n",
    ")\n",
    "parallel_dimensions.remove(\"mean_EnergiaCompensada\")\n",
    "parallel_dimensions.remove(\"mean_Geração\")\n"
   ]
  },
  {
   "cell_type": "code",
   "execution_count": null,
   "metadata": {},
   "outputs": [],
   "source": [
    "fig = px.parallel_coordinates(\n",
    "    data_frame=data_parallel,\n",
    "    dimensions=parallel_dimensions[0:-1],\n",
    "    # color_continuous_scale=px.colors.sequential.Jet_r,\n",
    "    labels={\n",
    "        \"mean_Consumo\": \"Consumo Energia (KWh)\",\n",
    "        \"mean_Demanda\": \"Demanda Contratada (KW)\",\n",
    "        \"mean_EnergiaCompensada\": \"Energia Compensada (KWh)\",\n",
    "        \"mean_FER\": \"Consumo Reativo (KWh)\",\n",
    "        \"mean_Geração\": \"Geração Contratada (KW)\",\n",
    "        \"mean_Injetada\": \"Energia Injetada (KWh)\",\n",
    "        \"mean_TE\": \"Uso Sis.Distrib. Contratado (KW)\",\n",
    "        \"mean_TUSD\": \"Consumo Uso Sis.Distrib. (KWh)\",\n",
    "    }\n",
    ")\n",
    "\n",
    "fig.update_layout(\n",
    "    font=dict(size=16),  # ← change font size here\n",
    ")\n",
    "fig.show()\n",
    "fig.write_html(\"../plots/perfil_clientes_coordenadas_paralelas_0.html\")\n"
   ]
  },
  {
   "cell_type": "code",
   "execution_count": null,
   "metadata": {},
   "outputs": [],
   "source": [
    "\n",
    "fig = px.parallel_coordinates(\n",
    "    data_frame=data_parallel,\n",
    "    dimensions=parallel_dimensions,\n",
    "    color=\"grupo\",\n",
    "    color_continuous_scale=px.colors.sequential.Jet,\n",
    "    labels={\n",
    "        \"mean_Consumo\": \"Consumo Energia (KWh)\",\n",
    "        \"mean_Demanda\": \"Demanda Contratada (KW)\",\n",
    "        \"mean_EnergiaCompensada\": \"Energia Compensada (KWh)\",\n",
    "        \"mean_FER\": \"Consumo Reativo (KWh)\",\n",
    "        \"mean_Geração\": \"Geração Contratada (KW)\",\n",
    "        \"mean_Injetada\": \"Energia Injetada (KWh)\",\n",
    "        \"mean_TE\": \"Uso Sis.Distrib. Contratado (KW)\",\n",
    "        \"mean_TUSD\": \"Consumo Uso Sis.Distrib. (KWh)\",\n",
    "    }\n",
    ")\n",
    "\n",
    "fig.update_layout(\n",
    "    font=dict(size=16),  # ← change font size here\n",
    ")\n",
    "fig.show()\n",
    "fig.write_html(\"../plots/perfil_clientes_coordenadas_paralelas.html\")\n"
   ]
  },
  {
   "cell_type": "markdown",
   "metadata": {},
   "source": [
    "# Perfil dos clientes"
   ]
  },
  {
   "cell_type": "code",
   "execution_count": null,
   "metadata": {},
   "outputs": [],
   "source": [
    "data_profile = pd.DataFrame()\n",
    "keys = [\"Nº instalação\", \"SubAgrupador de Fatu\"]\n",
    "\n",
    "for (cliente, grupo), grouped_df in data.groupby(by=keys):\n",
    "    keys_2 = keys.copy()\n",
    "    keys_2.append(\"Meses\")\n",
    "    df_tmp = grouped_df.reset_index().pivot_table(\n",
    "        values=\"Valores\", columns=\"Meses\", \n",
    "        index=[\"SubAgrupador de Fatu\", \"Nº instalação\"]\n",
    "    ).reset_index()        \n",
    "    data_profile = pd.concat([data_profile, df_tmp])\n",
    "\n",
    "data_profile = data_profile.rename(columns={\n",
    "                \"Nº instalação\": \"cliente\",\n",
    "                \"SubAgrupador de Fatu\": \"grupo_fatura\"\n",
    "                })"
   ]
  },
  {
   "cell_type": "code",
   "execution_count": null,
   "metadata": {},
   "outputs": [],
   "source": [
    "data_profile = pd.merge(data_profile, \n",
    "                        data_feat_pivot[[\"grupo\", \"cliente\"]],\n",
    "                        on=\"cliente\",\n",
    "                        how=\"left\")\n",
    "data_profile"
   ]
  },
  {
   "cell_type": "code",
   "execution_count": null,
   "metadata": {},
   "outputs": [],
   "source": [
    "data_profile.to_excel(Path(\"../data/processed/clientes_perfil.xlsx\"), index=False)"
   ]
  },
  {
   "cell_type": "code",
   "execution_count": null,
   "metadata": {},
   "outputs": [],
   "source": [
    "rename_dict = {\n",
    "    \"Consumo\": \"Consumo Energia (KWh)\",\n",
    "    \"Demanda\": \"Demanda Contratada (KW)\",\n",
    "    \"EnergiaCompensada\": \"Energia Compensada (KWh)\",\n",
    "    \"FER\": \"Consumo Reativo (KWh)\",\n",
    "    \"Geração\": \"Geração Contratada (KW)\",\n",
    "    \"Injetada\": \"Energia Injetada (KWh)\",\n",
    "    \"TE\": \"Uso Sis.Distrib. Contratado (KW)\",\n",
    "    \"TUSD\": \"Consumo Uso Sis.Distrib. (KWh)\",\n",
    "}\n",
    "\n",
    "def plot_group_profile(data: pd.DataFrame, group, invoice_groups=None):\n",
    "\n",
    "    if invoice_groups is None:\n",
    "        invoice_groups = data[\"grupo_fatura\"].unique()\n",
    "\n",
    "    df = data.loc[\n",
    "        (data[\"grupo\"]==group) &\n",
    "        (data[\"grupo_fatura\"].isin(invoice_groups))\n",
    "        ].copy()\n",
    "    fig, ax = plt.subplots(\n",
    "        len(invoice_groups),\n",
    "        1,\n",
    "        figsize=(\n",
    "            5,\n",
    "            len(invoice_groups)*2)\n",
    "        )\n",
    "\n",
    "    for i, invoice_group in enumerate(invoice_groups):\n",
    "        df_grouped = df[df[\"grupo_fatura\"] == invoice_group]\n",
    "        df_tmp = df_grouped.drop([\"grupo_fatura\", \"cliente\", \"grupo\"], axis=1)\n",
    "        \n",
    "        if not df_tmp.empty:\n",
    "            df_tmp.T.plot(ax=ax[i], color=\"lightgray\", linewidth=1, legend=False)\n",
    "            df_tmp.mean().plot(ax=ax[i], color=\"blue\", linewidth=2, legend=False)\n",
    "        else:\n",
    "            ax[i].plot(np.zeros(shape=(12)), color=\"lightgray\")\n",
    "        \n",
    "        ax[i].set_xticks(range(12))\n",
    "        ax[i].set_xticklabels(range(1, 13))\n",
    "        ax[i].set_title(rename_dict[invoice_group])\n",
    "    fig.suptitle(f\"Grupo {group}\")\n",
    "    plt.tight_layout(rect=[0,0,1,0.99])\n",
    "    plt.show()\n"
   ]
  },
  {
   "cell_type": "code",
   "execution_count": null,
   "metadata": {},
   "outputs": [],
   "source": [
    "invoice_group = [\n",
    "    'Consumo',\n",
    "    'Demanda',\n",
    "    'TE',\n",
    "    'TUSD',\n",
    "    'FER',\n",
    "    'Injetada',\n",
    "    ]\n",
    "plot_group_profile(data_profile, group=-1, invoice_groups=invoice_group)"
   ]
  },
  {
   "cell_type": "markdown",
   "metadata": {},
   "source": [
    "# Comportamento das variáveis por perfil"
   ]
  },
  {
   "cell_type": "code",
   "execution_count": null,
   "metadata": {},
   "outputs": [],
   "source": [
    "data_profile_melted = pd.melt(data_profile,\n",
    "                              id_vars=[\"grupo_fatura\", \"grupo\", \"cliente\"],\n",
    "                              value_vars=list(range(1,13)),\n",
    "                              var_name=\"meses\",\n",
    "                              value_name=\"valores\")\n",
    "data_profile_melted = data_profile_melted.dropna(subset=[\"valores\"], axis=0)"
   ]
  },
  {
   "cell_type": "code",
   "execution_count": null,
   "metadata": {},
   "outputs": [],
   "source": [
    "data_profile_melted"
   ]
  },
  {
   "cell_type": "code",
   "execution_count": null,
   "metadata": {},
   "outputs": [],
   "source": [
    "data_profile_melted = pd.melt(data_profile,\n",
    "                              id_vars=[\"grupo_fatura\", \"grupo\", \"cliente\"],\n",
    "                              value_vars=list(range(1,13)),\n",
    "                              var_name=\"meses\",\n",
    "                              value_name=\"valores\")\n",
    "data_profile_melted = data_profile_melted.dropna(subset=[\"valores\"], axis=0)\n",
    "\n",
    "group_dict = {\n",
    "    -1: \"Outliers\",\n",
    "    0: \"Cativos\",\n",
    "    1: \"Cativos Geradores\",\n",
    "    2: \"Em Transição\",\n",
    "    3: \"Mercado Livre\"\n",
    "}\n",
    "\n",
    "all_months = list(range(1,13))\n",
    "\n",
    "keys = [\"grupo_fatura\", \"grupo\"]\n",
    "for (invoice_group, group), df_grouped in data_profile_melted.groupby(keys):\n",
    "\n",
    "\n",
    "    # Ensure 'meses' is a Categorical with fixed order\n",
    "    df_grouped[\"meses\"] = pd.Categorical(df_grouped[\"meses\"], \n",
    "                                         categories=all_months, \n",
    "                                         ordered=True)\n",
    "\n",
    "    # Create subplots (2 rows, 1 column)\n",
    "    fig, axes = plt.subplots(nrows=2, \n",
    "                             ncols=1, \n",
    "                             figsize=(6, 3.5), \n",
    "                             sharex=True, \n",
    "                             gridspec_kw={'height_ratios': [3, 1]})\n",
    "\n",
    "    # Boxplot (First subplot)\n",
    "    sns.boxplot(data=df_grouped, x=\"meses\", y=\"valores\", ax=axes[0])\n",
    "    axes[0].set_title(f\"{group_dict[group]} - {rename_dict[invoice_group]}\")\n",
    "\n",
    "    # Remove X-axis markers from the boxplot\n",
    "    axes[0].tick_params(axis='x', which='both', bottom=False, top=False, labelbottom=False)\n",
    "\n",
    "    # Recount months and reindex with full month list\n",
    "    month_counts = df_grouped[\"meses\"].value_counts().reindex(all_months, fill_value=0).reset_index()\n",
    "    month_counts.columns = [\"meses\", \"Count\"]\n",
    "\n",
    "    # Barplot (Second subplot) - Count occurrences of each month\n",
    "    # month_counts = df_grouped[\"meses\"].value_counts().reset_index()\n",
    "    # month_counts.columns = [\"meses\", \"Count\"]\n",
    "    barplot = sns.barplot(data=month_counts, x=\"meses\", y=\"Count\", ax=axes[1])\n",
    "\n",
    "    # Remove spines (contours)\n",
    "    for spine in [\"top\", \"right\", \"left\", \"bottom\"]:\n",
    "        axes[0].spines[spine].set_visible(False)\n",
    "        axes[1].spines[spine].set_visible(False)\n",
    "\n",
    "    # Add value labels to bars\n",
    "    for p in barplot.patches:\n",
    "        axes[1].annotate(f'{p.get_height()}', \n",
    "                         (p.get_x() + p.get_width() / 2., p.get_height()), \n",
    "                         ha='center', va='bottom', fontsize=10,)\n",
    "\n",
    "    # axes[1].set_title(f\"Count of Occurrences for {item}\")\n",
    "\n",
    "    # Adjust layout and show the plot\n",
    "    plt.tight_layout()\n",
    "    fig.savefig(f\"../plots/variaveis_g{group}_{group_dict[group]}_{invoice_group}.png\", transparent=False)\n",
    "    plt.close()\n",
    "    # plt.show()\n",
    "    # break"
   ]
  },
  {
   "cell_type": "markdown",
   "metadata": {},
   "source": [
    "### Outliers"
   ]
  },
  {
   "cell_type": "code",
   "execution_count": null,
   "metadata": {},
   "outputs": [],
   "source": [
    "from sklearn.decomposition import TruncatedSVD, PCA\n",
    "from sklearn.cluster import KMeans, DBSCAN\n",
    "from sklearn.metrics import silhouette_score\n",
    "from sklearn.preprocessing import Normalizer, MaxAbsScaler, MinMaxScaler, RobustScaler, StandardScaler"
   ]
  },
  {
   "cell_type": "code",
   "execution_count": null,
   "metadata": {},
   "outputs": [],
   "source": [
    "interest_columns = [\"mean_Consumo\", \"mean_Injetada\", \"mean_Demanda\"]\n",
    "outlier_subset = data_feat_pivot.loc[data_feat_pivot[\"grupo\"]!=1, interest_columns]\n",
    "outlier_subset"
   ]
  },
  {
   "cell_type": "code",
   "execution_count": null,
   "metadata": {},
   "outputs": [],
   "source": [
    "col_count = len(interest_columns)\n",
    "fig, ax = plt.subplots(col_count, 1, figsize=(col_count*5, 6))\n",
    "for i, col in enumerate(interest_columns):\n",
    "\n",
    "    sns.histplot(outlier_subset, x=col, ax=ax[i])\n",
    "plt.subplots_adjust(hspace=0.4)\n",
    "plt.show()"
   ]
  },
  {
   "cell_type": "code",
   "execution_count": null,
   "metadata": {},
   "outputs": [],
   "source": [
    "col_count = len(interest_columns)\n",
    "fig, ax = plt.subplots(1, col_count, figsize=(12, 5))\n",
    "for i, col in enumerate(interest_columns):\n",
    "    sns.boxplot(outlier_subset, y=col, ax=ax[i])\n",
    "plt.subplots_adjust(hspace=0.4)\n",
    "plt.show()\n",
    "\n"
   ]
  },
  {
   "cell_type": "markdown",
   "metadata": {},
   "source": [
    "IQR"
   ]
  },
  {
   "cell_type": "code",
   "execution_count": null,
   "metadata": {},
   "outputs": [],
   "source": [
    "fig, ax = plt.subplots(1, 3, figsize=(16, 4))\n",
    "sns.scatterplot(outlier_subset, x=\"mean_Consumo\", y=\"mean_Injetada\", ax=ax[0])\n",
    "sns.scatterplot(outlier_subset, x=\"mean_Consumo\", y=\"mean_Demanda\", ax=ax[1])\n",
    "sns.scatterplot(outlier_subset, x=\"mean_Injetada\", y=\"mean_Demanda\", ax=ax[2])\n",
    "plt.subplots_adjust(wspace=0.4)\n",
    "plt.show()"
   ]
  },
  {
   "cell_type": "code",
   "execution_count": null,
   "metadata": {},
   "outputs": [],
   "source": [
    "q1 = outlier_subset.quantile(0.25)\n",
    "q3 = outlier_subset.quantile(0.75)\n",
    "iqr = q3 - q1\n",
    "\n",
    "outlier_mask = ((outlier_subset < (q1 - 1.5*iqr)) | (outlier_subset > (q3+1.5*iqr))).all(axis=1)\n",
    "outlier_subset[\"out_iqr\"] = 0\n",
    "outlier_subset.loc[outlier_mask, \"out_iqr\"] = -1\n",
    "print(outlier_subset[\"out_iqr\"].value_counts())\n",
    "\n",
    "fig, ax = plt.subplots(1, 3, figsize=(16, 4))\n",
    "sns.scatterplot(outlier_subset, x=\"mean_Consumo\", y=\"mean_Injetada\", hue=\"out_iqr\", palette=\"Set1\", ax=ax[0])\n",
    "sns.scatterplot(outlier_subset, x=\"mean_Consumo\", y=\"mean_Demanda\", hue=\"out_iqr\", palette=\"Set1\", ax=ax[1])\n",
    "sns.scatterplot(outlier_subset, x=\"mean_Injetada\", y=\"mean_Demanda\", hue=\"out_iqr\", palette=\"Set1\", ax=ax[2])\n",
    "plt.subplots_adjust(wspace=0.4)\n",
    "plt.show()\n",
    "\n"
   ]
  },
  {
   "cell_type": "code",
   "execution_count": null,
   "metadata": {},
   "outputs": [],
   "source": [
    "X_data = outlier_subset.fillna(0)\n",
    "clusterizer = DBSCAN(eps=10000,min_samples=10)\n",
    "clusters = clusterizer.fit_predict(X_data)\n",
    "outlier_subset[\"out_dbscan\"] = clusters\n",
    "print(outlier_subset[\"out_dbscan\"].value_counts())\n",
    "fig, ax = plt.subplots(1, 3, figsize=(16, 4))\n",
    "sns.scatterplot(outlier_subset, x=\"mean_Consumo\", y=\"mean_Injetada\", hue=\"out_dbscan\", palette=\"Set1\", ax=ax[0])\n",
    "sns.scatterplot(outlier_subset, x=\"mean_Consumo\", y=\"mean_Demanda\", hue=\"out_dbscan\", palette=\"Set1\", ax=ax[1])\n",
    "sns.scatterplot(outlier_subset, x=\"mean_Injetada\", y=\"mean_Demanda\", hue=\"out_dbscan\", palette=\"Set1\", ax=ax[2])\n",
    "plt.subplots_adjust(wspace=0.4)\n",
    "plt.show()\n"
   ]
  },
  {
   "cell_type": "code",
   "execution_count": null,
   "metadata": {},
   "outputs": [],
   "source": [
    "outlier_subset[\"outlier\"] = 0\n",
    "outlier_subset.loc[(outlier_subset[[\"out_dbscan\", \"out_iqr\"]]==-1).any(axis=1), \"outlier\"] = -1\n",
    "print(outlier_subset[\"outlier\"].value_counts())\n",
    "fig, ax = plt.subplots(1, 3, figsize=(16, 4))\n",
    "sns.scatterplot(outlier_subset, x=\"mean_Consumo\", y=\"mean_Injetada\", hue=\"outlier\", palette=\"Set1\", ax=ax[0])\n",
    "sns.scatterplot(outlier_subset, x=\"mean_Consumo\", y=\"mean_Demanda\", hue=\"outlier\", palette=\"Set1\", ax=ax[1])\n",
    "sns.scatterplot(outlier_subset, x=\"mean_Injetada\", y=\"mean_Demanda\", hue=\"outlier\", palette=\"Set1\", ax=ax[2])\n",
    "plt.subplots_adjust(wspace=0.4)\n",
    "plt.show()"
   ]
  },
  {
   "cell_type": "markdown",
   "metadata": {},
   "source": [
    "# Clusterização"
   ]
  },
  {
   "cell_type": "code",
   "execution_count": null,
   "metadata": {},
   "outputs": [],
   "source": [
    "indexes_mask = outlier_subset.loc[outlier_subset[\"outlier\"]!= -1].index\n",
    "\n",
    "X = data_feat_pivot.loc[\n",
    "    # :,\n",
    "    indexes_mask,\n",
    "    (data_feat_pivot.columns.str.contains(\"Consumo\")) | (data_feat_pivot.columns.str.contains(\"Injetada\")) #| (data_feat_pivot.columns.str.contains(\"_Demanda\"))\n",
    "    ].fillna(0)\n",
    "\n",
    "X = X.loc[:,~(X.columns.str.contains(\"last_\")) & ~(X.columns.str.contains(\"count_\"))]\n",
    "X"
   ]
  },
  {
   "cell_type": "code",
   "execution_count": null,
   "metadata": {},
   "outputs": [],
   "source": [
    "# normalizer = Normalizer()\n",
    "# normalizer = MaxAbsScaler()\n",
    "# normalizer = MinMaxScaler()\n",
    "# normalizer = StandardScaler()\n",
    "normalizer = RobustScaler()\n",
    "X_normalized = normalizer.fit_transform(X)\n",
    "\n",
    "inertias = []\n",
    "k_range = list(range(2, 11))\n",
    "for k in k_range:\n",
    "    kmeans = KMeans(n_clusters=k, random_state=42)\n",
    "    kmeans.fit(X_normalized)\n",
    "    inertias.append(kmeans.inertia_)\n",
    "\n",
    "plt.plot(k_range, inertias)\n",
    "plt.ylabel(\"Inercias\")\n",
    "plt.xlabel(\"Numero Clusters\")\n",
    "plt.show()"
   ]
  },
  {
   "cell_type": "code",
   "execution_count": null,
   "metadata": {},
   "outputs": [],
   "source": [
    "reduction = PCA(n_components=2, random_state=42)\n",
    "X_reduced = reduction.fit_transform(X_normalized)\n",
    "print(f\"Explained Variance Ratio: {reduction.explained_variance_ratio_}\")\n",
    "\n",
    "k = 3 # based on elbon plot\n",
    "kmeans = KMeans(n_clusters=k, random_state=42)\n",
    "labels = kmeans.fit_predict(X_normalized)\n",
    "X[\"cluster\"] = labels\n",
    "\n",
    "df = pd.DataFrame(X_reduced)\n",
    "df[\"cluster\"] = labels\n",
    "print(f\"Clusters count\")\n",
    "print(df[\"cluster\"].value_counts())\n",
    "# Plot reduction\n",
    "fig1, ax1 = plt.subplots(figsize=(10, 6))\n",
    "sns.scatterplot(df, x=1, y=0, hue=\"cluster\", palette=\"Set1\", ax=ax1)\n",
    "plt.xlabel('Feature 1')\n",
    "plt.ylabel('Feature 2')\n",
    "\n",
    "# plot original data\n",
    "fig2, ax2 = plt.subplots(figsize=(10, 6))\n",
    "sns.scatterplot(X, x=\"mean_Consumo\", y=\"mean_Injetada\", hue=\"cluster\", palette=\"Set1\", ax=ax2)\n",
    "# plt.yscale(\"log\")\n",
    "# plt.xscale(\"log\")\n",
    "plt.show()"
   ]
  },
  {
   "cell_type": "code",
   "execution_count": null,
   "metadata": {},
   "outputs": [],
   "source": [
    "c0 = X.loc[X[\"cluster\"]==0].mean()\n",
    "c1 = X.loc[X[\"cluster\"]==1].mean()\n",
    "c2 = X.loc[X[\"cluster\"]==2].mean()\n",
    "plt.bar(c0.keys() ,c0.values)\n",
    "plt.bar(c1.keys() ,c1.values)\n",
    "plt.bar(c2.keys() ,c2.values)\n",
    "# sns.barplot(X.loc[X[\"cluster\"]==0].mean())\n",
    "# sns.barplot(X.loc[X[\"cluster\"]==1].mean())\n",
    "plt.xticks(rotation=90)\n",
    "plt.show()"
   ]
  },
  {
   "cell_type": "code",
   "execution_count": null,
   "metadata": {},
   "outputs": [],
   "source": [
    "X.loc[X[\"cluster\"]==0].mean()"
   ]
  },
  {
   "cell_type": "code",
   "execution_count": null,
   "metadata": {},
   "outputs": [],
   "source": [
    "X.loc[X[\"cluster\"]==1].describe().T"
   ]
  },
  {
   "cell_type": "code",
   "execution_count": null,
   "metadata": {},
   "outputs": [],
   "source": [
    "X.loc[X[\"cluster\"]==1].mean()"
   ]
  },
  {
   "cell_type": "code",
   "execution_count": null,
   "metadata": {},
   "outputs": [],
   "source": [
    "data_feat_pivot.loc[(data_feat_pivot[\"total_Injetada\"]==0) & (data_feat_pivot[\"total_Consumo\"]!=0) & (data_feat_pivot[\"last_Consumo\"]==12)]"
   ]
  },
  {
   "cell_type": "code",
   "execution_count": null,
   "metadata": {},
   "outputs": [],
   "source": [
    "data_feat_pivot = pd.merge(data_feat_pivot, X[[\"cluster\"]], how=\"left\", left_index=True, right_index=True)\n",
    "data_feat_pivot[\"cluster\"] = data_feat_pivot[\"cluster\"].fillna(-1)\n",
    "data_feat_pivot"
   ]
  },
  {
   "cell_type": "code",
   "execution_count": null,
   "metadata": {},
   "outputs": [],
   "source": [
    "data_feat_pivot.loc[data_feat_pivot[\"cluster\"]==0]"
   ]
  },
  {
   "cell_type": "code",
   "execution_count": null,
   "metadata": {},
   "outputs": [],
   "source": [
    "sns.boxplot(data_feat_pivot, x=\"cluster\", y=\"mean_TUSD\")"
   ]
  },
  {
   "cell_type": "code",
   "execution_count": null,
   "metadata": {},
   "outputs": [],
   "source": [
    "sns.boxplot(X,x=\"cluster\", y=\"mean_Injetada\")"
   ]
  },
  {
   "cell_type": "code",
   "execution_count": null,
   "metadata": {},
   "outputs": [],
   "source": [
    "sns.boxplot(X,x=\"cluster\", y=\"mean_Consumo\")"
   ]
  },
  {
   "cell_type": "code",
   "execution_count": null,
   "metadata": {},
   "outputs": [],
   "source": [
    "X.loc[X[\"cluster\"]==0]"
   ]
  },
  {
   "cell_type": "code",
   "execution_count": null,
   "metadata": {},
   "outputs": [],
   "source": [
    "# normalizer = Normalizer()\n",
    "# normalizer = MaxAbsScaler()\n",
    "# normalizer = MinMaxScaler()\n",
    "normalizer = StandardScaler()\n",
    "# normalizer = RobustScaler()\n",
    "X_normalized = normalizer.fit_transform(X)\n",
    "\n",
    "reduction = PCA(n_components=2, random_state=42)\n",
    "X_reduced = reduction.fit_transform(X_normalized)\n",
    "print(f\"Explained Variance Ratio: {reduction.explained_variance_ratio_}\")\n",
    "\n",
    "clusterizer = DBSCAN(eps=3, min_samples=10)\n",
    "labels = clusterizer.fit_predict(X_normalized)\n",
    "X[\"cluster\"] = labels\n",
    "\n",
    "df = pd.DataFrame(X_reduced)\n",
    "df[\"cluster\"] = labels\n",
    "print(f\"Clusters count\")\n",
    "print(df[\"cluster\"].value_counts())\n",
    "# Plot reduction\n",
    "fig1, ax1 = plt.subplots(figsize=(10, 6))\n",
    "sns.scatterplot(df, x=1, y=0, hue=\"cluster\", palette=\"Set1\", ax=ax1)\n",
    "plt.xlabel('Feature 1')\n",
    "plt.ylabel('Feature 2')\n",
    "\n",
    "# plot original data\n",
    "fig2, ax2 = plt.subplots(figsize=(10, 6))\n",
    "sns.scatterplot(X, x=\"mean_Consumo\", y=\"mean_Demanda\", hue=\"cluster\", palette=\"Set1\", ax=ax2)\n",
    "# plt.yscale(\"log\")\n",
    "# plt.xscale(\"log\")\n",
    "plt.show()"
   ]
  },
  {
   "cell_type": "code",
   "execution_count": null,
   "metadata": {},
   "outputs": [],
   "source": [
    "import numpy as np\n",
    "import matplotlib.pyplot as plt\n",
    "from sklearn.cluster import KMeans\n",
    "\n",
    "# Finding optimal number of clusters using the Elbow Method\n",
    "inertias = []\n",
    "for k in range(1, 11):\n",
    "    kmeans = KMeans(n_clusters=k, random_state=0)\n",
    "    kmeans.fit(X)\n",
    "    inertias.append(kmeans.inertia_)\n",
    "\n",
    "plt.figure(figsize=(6, 4))\n",
    "plt.plot(range(1, 11), inertias, 'o-')\n",
    "plt.xlabel('Number of Clusters (k)')\n",
    "plt.ylabel('Inertia')\n",
    "plt.title('Elbow Method for Optimal k')"
   ]
  },
  {
   "cell_type": "code",
   "execution_count": null,
   "metadata": {},
   "outputs": [],
   "source": [
    "import numpy as np\n",
    "import matplotlib.pyplot as plt\n",
    "from sklearn.cluster import KMeans\n",
    "from sklearn.cluster import AgglomerativeClustering\n",
    "import scipy.cluster.hierarchy as shc\n",
    "from sklearn.cluster import DBSCAN\n",
    "\n",
    "from sklearn.preprocessing import RobustScaler\n",
    "\n",
    "scaler = RobustScaler()\n",
    "\n",
    "X_scaled = scaler.fit_transform(X)\n",
    "\n",
    "# # Initialize and fit K-means\n",
    "# kmeans = KMeans(n_clusters=3, random_state=0)\n",
    "# clusters = kmeans.fit_predict(X)\n",
    "\n",
    "# Fit Agglomerative Clustering\n",
    "# agg_clustering = AgglomerativeClustering(n_clusters=2)\n",
    "# agg_clusters = agg_clustering.fit_predict(X)\n",
    "\n",
    "dbscan = DBSCAN(eps=2, min_samples=5)\n",
    "db_clusters = dbscan.fit_predict(X_scaled)\n",
    "\n",
    "x_cluster = X.copy()\n",
    "x_cluster[\"cluster\"] = db_clusters\n",
    "var_list = X.columns\n"
   ]
  },
  {
   "cell_type": "code",
   "execution_count": null,
   "metadata": {},
   "outputs": [],
   "source": [
    "x_cluster[\"cluster\"].value_counts()"
   ]
  },
  {
   "cell_type": "code",
   "execution_count": null,
   "metadata": {},
   "outputs": [],
   "source": [
    "\n",
    "for cltr in x_cluster[\"cluster\"].unique():\n",
    "    df_temp = x_cluster.loc[x_cluster[\"cluster\"]==cltr]\n",
    "    plt.figure(figsize=(10,4))\n",
    "    sns.boxenplot(df_temp)\n",
    "    plt.show()\n"
   ]
  },
  {
   "cell_type": "code",
   "execution_count": null,
   "metadata": {},
   "outputs": [],
   "source": [
    "\n",
    "for clusters in clusters\n",
    "sns.boxplot\n"
   ]
  },
  {
   "cell_type": "code",
   "execution_count": null,
   "metadata": {},
   "outputs": [],
   "source": [
    "fig = px.histogram(data, x=\"Valores\", color=\"Item Faturamento BW\")\n",
    "fig.show()"
   ]
  },
  {
   "cell_type": "code",
   "execution_count": null,
   "metadata": {},
   "outputs": [],
   "source": [
    "for item in data[\"Item Faturamento BW\"].unique():\n",
    "    data_filtered = data.loc[data[\"Item Faturamento BW\"] == item]\n",
    "    plt.figure(figsize=(10,3))\n",
    "    ax = sns.histplot(data_filtered, x=\"Valores\")\n",
    "    ax.set_title(item)\n",
    "    plt.tight_layout()\n",
    "    plt.show()\n",
    "\n",
    "    "
   ]
  },
  {
   "cell_type": "code",
   "execution_count": null,
   "metadata": {},
   "outputs": [],
   "source": [
    "for item in data[\"Item Faturamento BW\"].unique():\n",
    "    data_filtered = data.loc[data[\"Item Faturamento BW\"] == item]\n",
    "\n",
    "    # Create subplots (2 rows, 1 column)\n",
    "    fig, axes = plt.subplots(nrows=2, ncols=1, figsize=(8, 6), sharex=True, gridspec_kw={'height_ratios': [3, 1]})\n",
    "\n",
    "    # Boxplot (First subplot)\n",
    "    sns.boxplot(data=data_filtered, x=\"Meses\", y=\"Valores\", ax=axes[0])\n",
    "    axes[0].set_title(f\"{item}\")\n",
    "\n",
    "    # Remove X-axis markers from the boxplot\n",
    "    axes[0].tick_params(axis='x', which='both', bottom=False, top=False, labelbottom=False)\n",
    "\n",
    "    # Barplot (Second subplot) - Count occurrences of each month\n",
    "    month_counts = data_filtered[\"Meses\"].value_counts().reset_index()\n",
    "    month_counts.columns = [\"Meses\", \"Count\"]\n",
    "    barplot = sns.barplot(data=month_counts, x=\"Meses\", y=\"Count\", ax=axes[1])\n",
    "\n",
    "    # Remove spines (contours)\n",
    "    for spine in [\"top\", \"right\", \"left\", \"bottom\"]:\n",
    "        axes[0].spines[spine].set_visible(False)\n",
    "        axes[1].spines[spine].set_visible(False)\n",
    "\n",
    "    # Add value labels to bars\n",
    "    for p in barplot.patches:\n",
    "        axes[1].annotate(f'{p.get_height()}', \n",
    "                         (p.get_x() + p.get_width() / 2., p.get_height()), \n",
    "                         ha='center', va='bottom', fontsize=10,)\n",
    "\n",
    "    # axes[1].set_title(f\"Count of Occurrences for {item}\")\n",
    "\n",
    "    # Adjust layout and show the plot\n",
    "    plt.tight_layout()\n",
    "    plt.show()"
   ]
  },
  {
   "cell_type": "code",
   "execution_count": null,
   "metadata": {},
   "outputs": [],
   "source": [
    "data"
   ]
  },
  {
   "cell_type": "code",
   "execution_count": null,
   "metadata": {},
   "outputs": [],
   "source": [
    "item_occ = data[[\"Item Faturamento BW\", \"Meses\", \"Valores\"]].groupby([\"Item Faturamento BW\", \"Meses\"]).count()\n",
    "item_occ = item_occ.reset_index()\n",
    "item_occ[\"Meses\"] = item_occ[\"Meses\"].astype(str)\n",
    "item_occ\n"
   ]
  },
  {
   "cell_type": "code",
   "execution_count": null,
   "metadata": {},
   "outputs": [],
   "source": [
    "px.line(item_occ,x=\"Meses\", y=\"Valores\", color=\"Item Faturamento BW\")"
   ]
  },
  {
   "cell_type": "code",
   "execution_count": null,
   "metadata": {},
   "outputs": [],
   "source": [
    "data"
   ]
  },
  {
   "cell_type": "code",
   "execution_count": null,
   "metadata": {},
   "outputs": [],
   "source": [
    "data"
   ]
  },
  {
   "cell_type": "code",
   "execution_count": null,
   "metadata": {},
   "outputs": [],
   "source": [
    "for (a, b,c,d), df  in data.groupby([\"Empresa\", \"Classe de cálculo\", \"SubGrupo de Tensão\", \"Município\"]):\n",
    "    print(a)\n",
    "    print(b)\n",
    "    print(c)\n",
    "    print(d)\n",
    "    \n",
    "    break\n"
   ]
  },
  {
   "cell_type": "code",
   "execution_count": null,
   "metadata": {},
   "outputs": [],
   "source": [
    "df"
   ]
  },
  {
   "cell_type": "code",
   "execution_count": null,
   "metadata": {},
   "outputs": [],
   "source": []
  }
 ],
 "metadata": {
  "kernelspec": {
   "display_name": "fapergs",
   "language": "python",
   "name": "python3"
  },
  "language_info": {
   "codemirror_mode": {
    "name": "ipython",
    "version": 3
   },
   "file_extension": ".py",
   "mimetype": "text/x-python",
   "name": "python",
   "nbconvert_exporter": "python",
   "pygments_lexer": "ipython3",
   "version": "3.12.0"
  }
 },
 "nbformat": 4,
 "nbformat_minor": 2
}
