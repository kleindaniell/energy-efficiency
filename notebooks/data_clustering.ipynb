{
 "cells": [
  {
   "cell_type": "code",
   "execution_count": null,
   "id": "b37d092d",
   "metadata": {},
   "outputs": [],
   "source": [
    "from pathlib import Path\n",
    "\n",
    "import pandas as pd\n",
    "import numpy as np\n",
    "from sklearn.decomposition import TruncatedSVD, PCA\n",
    "from sklearn.cluster import KMeans, DBSCAN\n",
    "from sklearn.metrics import silhouette_score\n",
    "from sklearn.preprocessing import Normalizer, MaxAbsScaler, MinMaxScaler, RobustScaler, StandardScaler\n",
    "\n",
    "import matplotlib.pyplot as plt\n",
    "import seaborn as sns\n",
    "import plotly.express as px"
   ]
  },
  {
   "cell_type": "code",
   "execution_count": null,
   "id": "b1c34519",
   "metadata": {},
   "outputs": [],
   "source": [
    "data_profile = pd.read_excel(Path(\"../data/processed/clientes_perfil.xlsx\"))\n",
    "data_features = pd.read_excel(Path(\"../data/processed/clientes_features.xlsx\"))"
   ]
  },
  {
   "cell_type": "markdown",
   "id": "dc97fe13",
   "metadata": {},
   "source": [
    "# Cluster grupo 0 - Clientes Cativos"
   ]
  },
  {
   "cell_type": "code",
   "execution_count": null,
   "id": "8a9eb431",
   "metadata": {},
   "outputs": [],
   "source": [
    "data_features_0 = data_features.loc[data_features[\"grupo\"]==0]\n",
    "data_features_0"
   ]
  },
  {
   "cell_type": "code",
   "execution_count": null,
   "id": "14bdb227",
   "metadata": {},
   "outputs": [],
   "source": [
    "data_features_0 = data_features_0.drop(\"grupo\", axis=1)\n",
    "data_features_0 = data_features_0.loc[:,(data_features_0 != 0).any()]"
   ]
  },
  {
   "cell_type": "code",
   "execution_count": null,
   "id": "ec4caeeb",
   "metadata": {},
   "outputs": [],
   "source": [
    "data_features_0.describe().T"
   ]
  },
  {
   "cell_type": "code",
   "execution_count": null,
   "id": "4014e43d",
   "metadata": {},
   "outputs": [],
   "source": [
    "X0 = data_features_0.loc[\n",
    "    :,\n",
    "    ~data_features_0.columns.str.contains(\"count|initial|last|cliente\", regex=True, case=False)\n",
    "]\n",
    "X0"
   ]
  },
  {
   "cell_type": "code",
   "execution_count": null,
   "id": "fed6f44f",
   "metadata": {},
   "outputs": [],
   "source": [
    "# normalizer = Normalizer()\n",
    "# normalizer = MaxAbsScaler()\n",
    "# normalizer = MinMaxScaler()\n",
    "normalizer = StandardScaler()\n",
    "# normalizer = RobustScaler()\n",
    "X_normalized = normalizer.fit_transform(X0)\n",
    "\n",
    "inertias = []\n",
    "k_range = list(range(2, 11))\n",
    "for k in k_range:\n",
    "    kmeans = KMeans(n_clusters=k, random_state=42)\n",
    "    kmeans.fit(X_normalized)\n",
    "    inertias.append(kmeans.inertia_)\n",
    "\n",
    "plt.plot(k_range, inertias)\n",
    "plt.ylabel(\"Inercias\")\n",
    "plt.xlabel(\"Numero Clusters\")\n",
    "plt.show()"
   ]
  },
  {
   "cell_type": "code",
   "execution_count": null,
   "id": "ce7bed45",
   "metadata": {},
   "outputs": [],
   "source": [
    "reduction = PCA(n_components=2, random_state=42)\n",
    "X_reduced = reduction.fit_transform(X_normalized)\n",
    "print(f\"Explained Variance Ratio: {reduction.explained_variance_ratio_}\")\n",
    "\n",
    "k = 5 # based on elbon plot\n",
    "kmeans = KMeans(n_clusters=k, random_state=42)\n",
    "labels = kmeans.fit_predict(X_normalized)\n",
    "X0[\"cluster\"] = labels\n",
    "\n",
    "df = pd.DataFrame(X_reduced)\n",
    "df[\"cluster\"] = labels\n",
    "print(f\"Clusters count\")\n",
    "print(df[\"cluster\"].value_counts())\n",
    "# Plot reduction\n",
    "fig1, ax1 = plt.subplots(figsize=(10, 6))\n",
    "sns.scatterplot(df, x=1, y=0, hue=\"cluster\", palette=\"Set1\", ax=ax1)\n",
    "plt.xlabel('Feature 1')\n",
    "plt.ylabel('Feature 2')\n",
    "\n",
    "# plot original data\n",
    "fig2, ax2 = plt.subplots(figsize=(10, 6))\n",
    "sns.scatterplot(X0, x=\"mean_Consumo\", y=\"mean_Demanda\", hue=\"cluster\", palette=\"Set1\", ax=ax2)\n",
    "# plt.yscale(\"log\")\n",
    "# plt.xscale(\"log\")\n",
    "plt.show()"
   ]
  },
  {
   "cell_type": "code",
   "execution_count": null,
   "id": "90a179e9",
   "metadata": {},
   "outputs": [],
   "source": [
    "# normalizer = Normalizer()\n",
    "# normalizer = MaxAbsScaler()\n",
    "# normalizer = MinMaxScaler()\n",
    "# normalizer = StandardScaler()\n",
    "normalizer = RobustScaler()\n",
    "X_normalized = normalizer.fit_transform(X0)\n",
    "\n",
    "reduction = PCA(n_components=2, random_state=42)\n",
    "X_reduced = reduction.fit_transform(X_normalized)\n",
    "print(f\"Explained Variance Ratio: {reduction.explained_variance_ratio_}\")\n",
    "\n",
    "clusterizer = DBSCAN(eps=4, min_samples=10)\n",
    "labels = clusterizer.fit_predict(X_normalized)\n",
    "X0[\"cluster\"] = labels\n",
    "\n",
    "df = pd.DataFrame(X_reduced)\n",
    "df[\"cluster\"] = labels\n",
    "print(f\"Clusters count\")\n",
    "print(df[\"cluster\"].value_counts())\n",
    "# Plot reduction\n",
    "fig1, ax1 = plt.subplots(figsize=(10, 6))\n",
    "sns.scatterplot(df, x=1, y=0, hue=\"cluster\", palette=\"Set1\", ax=ax1)\n",
    "plt.xlabel('Feature 1')\n",
    "plt.ylabel('Feature 2')\n",
    "\n",
    "# plot original data\n",
    "fig2, ax2 = plt.subplots(figsize=(10, 6))\n",
    "sns.scatterplot(X0, x=\"mean_Consumo\", y=\"mean_Demanda\", hue=\"cluster\", palette=\"Set1\", ax=ax2)\n",
    "# plt.yscale(\"log\")\n",
    "# plt.xscale(\"log\")\n",
    "plt.show()"
   ]
  },
  {
   "cell_type": "code",
   "execution_count": null,
   "id": "74634f2e",
   "metadata": {},
   "outputs": [],
   "source": [
    "data_features_0.loc[data_features_0[\"count_Consumo\"]<12]"
   ]
  },
  {
   "cell_type": "code",
   "execution_count": null,
   "id": "6ac9a975",
   "metadata": {},
   "outputs": [],
   "source": []
  },
  {
   "cell_type": "code",
   "execution_count": null,
   "id": "3503ed67",
   "metadata": {},
   "outputs": [],
   "source": []
  },
  {
   "cell_type": "code",
   "execution_count": null,
   "id": "b4a2a564",
   "metadata": {},
   "outputs": [],
   "source": [
    "data_profile_0 = data_profile.loc[data_profile[\"grupo\"]==0]\n",
    "print(data_profile_0[\"grupo_fatura\"].unique())"
   ]
  },
  {
   "cell_type": "code",
   "execution_count": null,
   "id": "dc2ae3ee",
   "metadata": {},
   "outputs": [],
   "source": [
    "fig, ax = plt.subplots(1,3,figsize=(10,4))\n",
    "sns.scatterplot(data_profile_0, x=\"\")"
   ]
  }
 ],
 "metadata": {
  "kernelspec": {
   "display_name": "fapergs",
   "language": "python",
   "name": "python3"
  },
  "language_info": {
   "codemirror_mode": {
    "name": "ipython",
    "version": 3
   },
   "file_extension": ".py",
   "mimetype": "text/x-python",
   "name": "python",
   "nbconvert_exporter": "python",
   "pygments_lexer": "ipython3",
   "version": "3.11.0"
  }
 },
 "nbformat": 4,
 "nbformat_minor": 5
}
