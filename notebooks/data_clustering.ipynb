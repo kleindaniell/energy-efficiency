{
 "cells": [
  {
   "cell_type": "code",
   "execution_count": null,
   "id": "b37d092d",
   "metadata": {},
   "outputs": [],
   "source": [
    "from pathlib import Path\n",
    "\n",
    "import pandas as pd\n",
    "import numpy as np\n",
    "from sklearn.decomposition import TruncatedSVD, PCA\n",
    "from sklearn.cluster import KMeans, DBSCAN\n",
    "from sklearn.metrics import silhouette_score\n",
    "from sklearn.preprocessing import Normalizer, MaxAbsScaler, MinMaxScaler, RobustScaler, StandardScaler\n",
    "\n",
    "import matplotlib.pyplot as plt\n",
    "import seaborn as sns\n",
    "import plotly.express as px"
   ]
  },
  {
   "cell_type": "code",
   "execution_count": null,
   "id": "b1c34519",
   "metadata": {},
   "outputs": [],
   "source": [
    "data_profile = pd.read_excel(Path(\"../data/processed/clientes_perfil.xlsx\"))\n",
    "data_features = pd.read_excel(Path(\"../data/processed/clientes_features.xlsx\"))"
   ]
  },
  {
   "cell_type": "markdown",
   "id": "dc97fe13",
   "metadata": {},
   "source": [
    "# Cluster grupo 0 - Clientes Cativos"
   ]
  },
  {
   "cell_type": "code",
   "execution_count": null,
   "id": "27768b86",
   "metadata": {},
   "outputs": [],
   "source": [
    "data_profile_g0 = data_profile.loc[data_profile[\"grupo\"]==0]\n",
    "\n",
    "# fill na with row mean\n",
    "data_profile_g0.iloc[:, 2:-1] = data_profile_g0.iloc[:, 2:-1].apply(lambda row: row.fillna(row.mean()), axis=1)\n",
    "\n",
    "data_profile_g0 = pd.pivot_table(data_profile_g0,\n",
    "                                 values=list(range(1,13)),\n",
    "                                 index=\"cliente\",\n",
    "                                 columns=\"grupo_fatura\"\n",
    "                                 )\n",
    "data_profile_g0.columns = [f\"{x[1]}_{x[0]:02}\" for x in data_profile_g0.columns.values]\n",
    "data_profile_g0"
   ]
  },
  {
   "cell_type": "code",
   "execution_count": null,
   "id": "0bb7c452",
   "metadata": {},
   "outputs": [],
   "source": [
    "new_columns = sorted(data_profile_g0.columns.values)\n",
    "new_columns = [x for x in new_columns if \"FER\" not in x]\n",
    "data_profile_g0 = data_profile_g0[new_columns]\n",
    "data_profile_g0"
   ]
  },
  {
   "cell_type": "code",
   "execution_count": null,
   "id": "fed6f44f",
   "metadata": {},
   "outputs": [],
   "source": [
    "X0 = data_profile_g0\n",
    "\n",
    "# normalizer = Normalizer()\n",
    "# normalizer = MaxAbsScaler()\n",
    "# normalizer = MinMaxScaler()\n",
    "# normalizer = StandardScaler()\n",
    "normalizer = RobustScaler()\n",
    "X_normalized = normalizer.fit_transform(X0)\n",
    "\n",
    "inertias = []\n",
    "k_range = list(range(2, 11))\n",
    "for k in k_range:\n",
    "    kmeans = KMeans(n_clusters=k, random_state=42)\n",
    "    kmeans.fit(X_normalized)\n",
    "    inertias.append(kmeans.inertia_)\n",
    "\n",
    "plt.figure(figsize=(5,4))\n",
    "plt.plot(k_range, inertias)\n",
    "plt.ylabel(\"Inercias\")\n",
    "plt.xlabel(\"Numero Clusters\")\n",
    "plt.show()"
   ]
  },
  {
   "cell_type": "code",
   "execution_count": null,
   "id": "ce7bed45",
   "metadata": {},
   "outputs": [],
   "source": [
    "reduction = PCA(n_components=2, random_state=42)\n",
    "X_reduced = reduction.fit_transform(X_normalized)\n",
    "print(f\"Explained Variance Ratio: {reduction.explained_variance_ratio_}\")\n",
    "\n",
    "k = 4 # based on elbon plot\n",
    "kmeans = KMeans(n_clusters=k, random_state=42)\n",
    "labels = kmeans.fit_predict(X_normalized)\n",
    "\n",
    "data_profile_g0[\"cluster_km\"] = labels\n",
    "data_profile_g0[\"mean_consumo\"] = data_profile_g0.loc[:, data_profile_g0.columns.str.contains(\"Consumo\")].mean(axis=1)\n",
    "data_profile_g0[\"mean_demanda\"] = data_profile_g0.loc[:, data_profile_g0.columns.str.contains(\"Demanda\")].mean(axis=1)\n",
    "\n",
    "df = pd.DataFrame(X_reduced)\n",
    "df[\"cluster\"] = labels\n",
    "print(f\"Clusters count\")\n",
    "print(df[\"cluster\"].value_counts())\n",
    "# Plot reduction\n",
    "fig1, ax1 = plt.subplots(figsize=(7, 5))\n",
    "sns.scatterplot(df, x=1, y=0, hue=\"cluster\", palette=\"Set1\", ax=ax1)\n",
    "plt.xlabel('Feature 1')\n",
    "plt.ylabel('Feature 2')\n",
    "\n",
    "# plot original data\n",
    "fig2, ax2 = plt.subplots(figsize=(7, 5))\n",
    "sns.scatterplot(data_profile_g0, x=\"mean_consumo\", y=\"mean_demanda\", hue=\"cluster_km\", palette=\"Set1\", ax=ax2)\n",
    "ax2.set_xlabel(\"Media mensal do Consumo de Energia (KWh)\")\n",
    "ax2.set_ylabel(\"Media mensal da Demanda Contratada (KW)\")\n",
    "# plt.yscale(\"log\")\n",
    "# plt.xscale(\"log\")\n",
    "plt.show()"
   ]
  },
  {
   "cell_type": "markdown",
   "id": "7d704d09",
   "metadata": {},
   "source": [
    "### DBSCAN"
   ]
  },
  {
   "cell_type": "code",
   "execution_count": null,
   "id": "90a179e9",
   "metadata": {},
   "outputs": [],
   "source": [
    "# normalizer = Normalizer()\n",
    "# normalizer = MaxAbsScaler()\n",
    "# normalizer = MinMaxScaler()\n",
    "# normalizer = StandardScaler()\n",
    "normalizer = RobustScaler()\n",
    "X_normalized = normalizer.fit_transform(X0)\n",
    "\n",
    "reduction = PCA(n_components=2, random_state=42)\n",
    "X_reduced = reduction.fit_transform(X_normalized)\n",
    "print(f\"Explained Variance Ratio: {reduction.explained_variance_ratio_}\")\n",
    "\n",
    "clusterizer = DBSCAN(eps=10, min_samples=10)\n",
    "labels = clusterizer.fit_predict(X_normalized)\n",
    "data_profile_g0[\"cluster_dbscan\"] = labels\n",
    "\n",
    "df = pd.DataFrame(X_reduced)\n",
    "df[\"cluster\"] = labels\n",
    "print(f\"Clusters count\")\n",
    "print(df[\"cluster\"].value_counts())\n",
    "# Plot reduction\n",
    "fig1, ax1 = plt.subplots(figsize=(10, 6))\n",
    "sns.scatterplot(df, x=1, y=0, hue=\"cluster\", palette=\"Set1\", ax=ax1)\n",
    "plt.xlabel('Feature 1')\n",
    "plt.ylabel('Feature 2')\n",
    "\n",
    "# plot original data\n",
    "fig2, ax2 = plt.subplots(figsize=(10, 6))\n",
    "sns.scatterplot(X0, x=\"mean_consumo\", y=\"mean_demanda\", hue=\"cluster_dbscan\", palette=\"Set1\", ax=ax2)\n",
    "# plt.yscale(\"log\")\n",
    "# plt.xscale(\"log\")\n",
    "plt.show()"
   ]
  },
  {
   "cell_type": "markdown",
   "id": "4a78219f",
   "metadata": {},
   "source": [
    "# Cluster grupo 1 - Clientes Cativos com Geração"
   ]
  },
  {
   "cell_type": "code",
   "execution_count": null,
   "id": "74634f2e",
   "metadata": {},
   "outputs": [],
   "source": [
    "data_profile_g1 = data_profile.loc[data_profile[\"grupo\"]==1]\n",
    "\n",
    "# fill na with row mean\n",
    "data_profile_g1.iloc[:, 2:-1] = data_profile_g1.iloc[:, 2:-1].apply(lambda row: row.fillna(row.mean()), axis=1)\n",
    "\n",
    "data_profile_g1 = pd.pivot_table(data_profile_g1,\n",
    "                                 values=list(range(1,13)),\n",
    "                                 index=\"cliente\",\n",
    "                                 columns=\"grupo_fatura\"\n",
    "                                 )\n",
    "data_profile_g1.columns = [f\"{x[1]}_{x[0]:02}\" for x in data_profile_g1.columns.values]\n",
    "data_profile_g1"
   ]
  },
  {
   "cell_type": "code",
   "execution_count": null,
   "id": "6ac9a975",
   "metadata": {},
   "outputs": [],
   "source": [
    "new_columns = sorted(data_profile_g1.columns.values)\n",
    "new_columns = [x for x in new_columns if \"FER\" not in x]\n",
    "new_columns = [x for x in new_columns if \"Geração\" not in x]\n",
    "new_columns = [x for x in new_columns if \"EnergiaCompensada\" not in x]\n",
    "data_profile_g1 = data_profile_g1[new_columns]\n",
    "data_profile_g1"
   ]
  },
  {
   "cell_type": "code",
   "execution_count": null,
   "id": "3503ed67",
   "metadata": {},
   "outputs": [],
   "source": [
    "X1 = data_profile_g1\n",
    "\n",
    "# normalizer = Normalizer()\n",
    "# normalizer = MaxAbsScaler()\n",
    "# normalizer = MinMaxScaler()\n",
    "# normalizer = StandardScaler()\n",
    "normalizer = RobustScaler()\n",
    "X_normalized = normalizer.fit_transform(X1)\n",
    "\n",
    "inertias = []\n",
    "k_range = list(range(2, 11))\n",
    "for k in k_range:\n",
    "    kmeans = KMeans(n_clusters=k, random_state=42)\n",
    "    kmeans.fit(X_normalized)\n",
    "    inertias.append(kmeans.inertia_)\n",
    "\n",
    "plt.figure(figsize=(5,4))\n",
    "plt.plot(k_range, inertias)\n",
    "plt.ylabel(\"Inercias\")\n",
    "plt.xlabel(\"Numero Clusters\")\n",
    "plt.show()"
   ]
  },
  {
   "cell_type": "code",
   "execution_count": null,
   "id": "0f2cd7d2",
   "metadata": {},
   "outputs": [],
   "source": [
    "reduction = PCA(n_components=2, random_state=42)\n",
    "X_reduced = reduction.fit_transform(X_normalized)\n",
    "print(f\"Explained Variance Ratio: {reduction.explained_variance_ratio_}\")\n",
    "\n",
    "k = 4 # based on elbon plot\n",
    "kmeans = KMeans(n_clusters=k, random_state=42)\n",
    "labels = kmeans.fit_predict(X_normalized)\n",
    "\n",
    "data_profile_g1[\"cluster_km\"] = labels\n",
    "data_profile_g1[\"mean_consumo\"] = data_profile_g1.loc[:, data_profile_g1.columns.str.contains(\"Consumo\")].mean(axis=1)\n",
    "data_profile_g1[\"mean_demanda\"] = data_profile_g1.loc[:, data_profile_g1.columns.str.contains(\"Demanda\")].mean(axis=1)\n",
    "data_profile_g1[\"mean_injetada\"] = data_profile_g1.loc[:, data_profile_g1.columns.str.contains(\"Injetada\")].mean(axis=1)\n",
    "\n",
    "df = pd.DataFrame(X_reduced)\n",
    "df[\"cluster\"] = labels\n",
    "print(f\"Clusters count\")\n",
    "print(df[\"cluster\"].value_counts())\n",
    "# Plot reduction\n",
    "fig1, ax1 = plt.subplots(figsize=(10, 6))\n",
    "sns.scatterplot(df, x=1, y=0, hue=\"cluster\", palette=\"Set1\", ax=ax1)\n",
    "plt.xlabel('Feature 1')\n",
    "plt.ylabel('Feature 2')\n",
    "\n",
    "# plot original data\n",
    "fig2, ax2 = plt.subplots(figsize=(7, 5))\n",
    "sns.scatterplot(data_profile_g1, x=\"mean_consumo\", y=\"mean_injetada\", hue=\"cluster_km\", palette=\"Set1\", ax=ax2)\n",
    "ax2.set_xlabel(\"Media mensal do Consumo de Energia (KWh)\")\n",
    "ax2.set_ylabel(\"Media mensal de Energia Injetada (KWh)\")\n",
    "# plt.yscale(\"log\")\n",
    "# plt.xscale(\"log\")\n",
    "plt.show()"
   ]
  },
  {
   "cell_type": "markdown",
   "id": "56d484b5",
   "metadata": {},
   "source": [
    "# Cluster grupo 2 - Clientes Em Transição"
   ]
  },
  {
   "cell_type": "code",
   "execution_count": null,
   "id": "f2fc359a",
   "metadata": {},
   "outputs": [],
   "source": [
    "data_profile_g2 = data_profile.loc[data_profile[\"grupo\"]==2]\n",
    "\n",
    "# fill na with zero\n",
    "# data_profile_g2 = data_profile_g2.fillna(0)\n",
    "\n",
    "data_profile_g2 = pd.pivot_table(data_profile_g2,\n",
    "                                 values=list(range(1,13)),\n",
    "                                 index=\"cliente\",\n",
    "                                 columns=\"grupo_fatura\"\n",
    "                                 )\n",
    "data_profile_g2.columns = [f\"{x[1]}_{x[0]:02}\" for x in data_profile_g2.columns.values]\n",
    "data_profile_g2 = data_profile_g2.fillna(0)\n",
    "data_profile_g2"
   ]
  },
  {
   "cell_type": "code",
   "execution_count": null,
   "id": "3478860c",
   "metadata": {},
   "outputs": [],
   "source": [
    "new_columns = sorted(data_profile_g2.columns.values)\n",
    "new_columns = [x for x in new_columns if \"FER\" not in x]\n",
    "new_columns = [x for x in new_columns if \"Geração\" not in x]\n",
    "new_columns = [x for x in new_columns if \"EnergiaCompensada\" not in x]\n",
    "data_profile_g2 = data_profile_g2[new_columns]\n",
    "data_profile_g2"
   ]
  },
  {
   "cell_type": "code",
   "execution_count": null,
   "id": "7c5b99c3",
   "metadata": {},
   "outputs": [],
   "source": [
    "X2 = data_profile_g2\n",
    "\n",
    "# normalizer = Normalizer()\n",
    "# normalizer = MaxAbsScaler()\n",
    "# normalizer = MinMaxScaler()\n",
    "normalizer = StandardScaler()\n",
    "# normalizer = RobustScaler()\n",
    "X_normalized = normalizer.fit_transform(X2)\n",
    "\n",
    "inertias = []\n",
    "k_range = list(range(2, 11))\n",
    "for k in k_range:\n",
    "    kmeans = KMeans(n_clusters=k, random_state=42)\n",
    "    kmeans.fit(X_normalized)\n",
    "    inertias.append(kmeans.inertia_)\n",
    "\n",
    "plt.plot(k_range, inertias)\n",
    "plt.ylabel(\"Inercias\")\n",
    "plt.xlabel(\"Numero Clusters\")\n",
    "plt.show()"
   ]
  },
  {
   "cell_type": "code",
   "execution_count": null,
   "id": "dc16cc07",
   "metadata": {},
   "outputs": [],
   "source": [
    "reduction = PCA(n_components=2, random_state=42)\n",
    "X_reduced = reduction.fit_transform(X_normalized)\n",
    "print(f\"Explained Variance Ratio: {reduction.explained_variance_ratio_}\")\n",
    "\n",
    "k = 5 # based on elbon plot\n",
    "kmeans = KMeans(n_clusters=k, random_state=42)\n",
    "labels = kmeans.fit_predict(X_normalized)\n",
    "\n",
    "data_profile_g2[\"cluster_km\"] = labels\n",
    "data_profile_g2[\"mean_TE\"] = data_profile_g2.loc[:, data_profile_g2.columns.str.contains(\"TE\")].mean(axis=1)\n",
    "data_profile_g2[\"mean_TUSD\"] = data_profile_g2.loc[:, data_profile_g2.columns.str.contains(\"TUSD\")].mean(axis=1)\n",
    "data_profile_g2[\"mean_consumo\"] = data_profile_g2.loc[:, data_profile_g2.columns.str.contains(\"Consumo\")].mean(axis=1)\n",
    "data_profile_g2[\"mean_demanda\"] = data_profile_g2.loc[:, data_profile_g2.columns.str.contains(\"Demanda\")].mean(axis=1)\n",
    "data_profile_g2[\"mean_injetada\"] = data_profile_g2.loc[:, data_profile_g2.columns.str.contains(\"Injetada\")].mean(axis=1)\n",
    "\n",
    "df = pd.DataFrame(X_reduced)\n",
    "df[\"cluster\"] = labels\n",
    "print(f\"Clusters count\")\n",
    "print(df[\"cluster\"].value_counts())\n",
    "# Plot reduction\n",
    "fig3, ax1 = plt.subplots(figsize=(10, 6))\n",
    "sns.scatterplot(df, x=1, y=0, hue=\"cluster\", palette=\"Set1\", ax=ax1)\n",
    "plt.xlabel('Feature 1')\n",
    "plt.ylabel('Feature 2')\n",
    "\n",
    "# plot original data\n",
    "fig2, ax2 = plt.subplots(figsize=(10, 6))\n",
    "sns.scatterplot(data_profile_g2, x=\"mean_consumo\", y=\"mean_demanda\", hue=\"cluster_km\", palette=\"Set1\", ax=ax2)\n",
    "# plt.yscale(\"log\")\n",
    "# plt.xscale(\"log\")\n",
    "plt.show()"
   ]
  },
  {
   "cell_type": "markdown",
   "id": "a611da09",
   "metadata": {},
   "source": [
    "# Cluster grupo 3 - Clientes Mercado Livre"
   ]
  },
  {
   "cell_type": "code",
   "execution_count": null,
   "id": "e39d0424",
   "metadata": {},
   "outputs": [],
   "source": [
    "data_profile_g3 = data_profile.loc[data_profile[\"grupo\"]==3]\n",
    "\n",
    "# fill na with row mean\n",
    "data_profile_g3.iloc[:, 2:-1] = data_profile_g3.iloc[:, 2:-1].apply(lambda row: row.fillna(row.mean()), axis=1)\n",
    "\n",
    "data_profile_g3 = pd.pivot_table(data_profile_g3,\n",
    "                                 values=list(range(1,13)),\n",
    "                                 index=\"cliente\",\n",
    "                                 columns=\"grupo_fatura\"\n",
    "                                 )\n",
    "data_profile_g3.columns = [f\"{x[1]}_{x[0]:02}\" for x in data_profile_g3.columns.values]\n",
    "data_profile_g3"
   ]
  },
  {
   "cell_type": "code",
   "execution_count": null,
   "id": "0d8f619e",
   "metadata": {},
   "outputs": [],
   "source": [
    "new_columns = sorted(data_profile_g3.columns.values)\n",
    "new_columns = [x for x in new_columns if \"FER\" not in x]\n",
    "# new_columns = [x for x in new_columns if \"Geração\" not in x]\n",
    "# new_columns = [x for x in new_columns if \"EnergiaCompensada\" not in x]\n",
    "data_profile_g3 = data_profile_g3[new_columns]\n",
    "data_profile_g3"
   ]
  },
  {
   "cell_type": "code",
   "execution_count": null,
   "id": "06fb4dc0",
   "metadata": {},
   "outputs": [],
   "source": [
    "X3 = data_profile_g3\n",
    "\n",
    "# normalizer = Normalizer()\n",
    "# normalizer = MaxAbsScaler()\n",
    "# normalizer = MinMaxScaler()\n",
    "normalizer = StandardScaler()\n",
    "# normalizer = RobustScaler()\n",
    "X_normalized = normalizer.fit_transform(X3)\n",
    "\n",
    "inertias = []\n",
    "k_range = list(range(2, 11))\n",
    "for k in k_range:\n",
    "    kmeans = KMeans(n_clusters=k, random_state=42)\n",
    "    kmeans.fit(X_normalized)\n",
    "    inertias.append(kmeans.inertia_)\n",
    "\n",
    "plt.figure(figsize=(5,4))\n",
    "plt.plot(k_range, inertias)\n",
    "plt.ylabel(\"Inercias\")\n",
    "plt.xlabel(\"Numero Clusters\")\n",
    "plt.show()"
   ]
  },
  {
   "cell_type": "code",
   "execution_count": null,
   "id": "465e04a0",
   "metadata": {},
   "outputs": [],
   "source": [
    "reduction = PCA(n_components=2, random_state=42)\n",
    "X_reduced = reduction.fit_transform(X_normalized)\n",
    "print(f\"Explained Variance Ratio: {reduction.explained_variance_ratio_}\")\n",
    "\n",
    "k = 5 # based on elbon plot\n",
    "kmeans = KMeans(n_clusters=k, random_state=42)\n",
    "labels = kmeans.fit_predict(X_normalized)\n",
    "\n",
    "data_profile_g3[\"cluster_km\"] = labels\n",
    "data_profile_g3[\"mean_TE\"] = data_profile_g3.loc[:, data_profile_g3.columns.str.contains(\"TE\")].mean(axis=1)\n",
    "data_profile_g3[\"mean_TUSD\"] = data_profile_g3.loc[:, data_profile_g3.columns.str.contains(\"TUSD\")].mean(axis=1)\n",
    "\n",
    "df = pd.DataFrame(X_reduced)\n",
    "df[\"cluster\"] = labels\n",
    "print(f\"Clusters count\")\n",
    "print(df[\"cluster\"].value_counts())\n",
    "# Plot reduction\n",
    "fig3, ax1 = plt.subplots(figsize=(10, 6))\n",
    "sns.scatterplot(df, x=1, y=0, hue=\"cluster\", palette=\"Set1\", ax=ax1)\n",
    "plt.xlabel('Feature 1')\n",
    "plt.ylabel('Feature 2')\n",
    "\n",
    "# plot original data\n",
    "fig2, ax2 = plt.subplots(figsize=(7, 5))\n",
    "sns.scatterplot(data_profile_g3, x=\"mean_TUSD\", y=\"mean_TE\", hue=\"cluster_km\", palette=\"Set1\", ax=ax2)\n",
    "ax2.set_ylabel(\"Media mensal do Consumo Uso Sis.Dist. (KWh)\")\n",
    "ax2.set_xlabel(\"Media mensal do Contrato Usu Sis.Dist. (KWh)\")\n",
    "# plt.yscale(\"log\")\n",
    "# plt.xscale(\"log\")\n",
    "plt.show()"
   ]
  },
  {
   "cell_type": "code",
   "execution_count": null,
   "id": "1dc807f3",
   "metadata": {},
   "outputs": [],
   "source": [
    "data_profile_g0"
   ]
  },
  {
   "cell_type": "code",
   "execution_count": null,
   "id": "140504c0",
   "metadata": {},
   "outputs": [],
   "source": [
    "data_profile_all = pd.concat(\n",
    "    [\n",
    "        data_profile_g0, data_profile_g1,\n",
    "        data_profile_g2, data_profile_g3\n",
    "    ]\n",
    ")\n",
    "\n",
    "teste = pd.merge(left=data_profile, right=data_profile_all[[\"cluster_km\"]], left_on=\"cliente\", right_index=True)\n",
    "# teste = pd.merge(left=teste, right=data_profile_g1[[\"cluster_km\"]], left_on=\"cliente\", right_index=True)\n",
    "teste[[\"cliente\", \"cluster_km\"]].drop_duplicates().to_csv(\"../data/processed/clientes_subclusters.csv\", index=False)"
   ]
  },
  {
   "cell_type": "code",
   "execution_count": null,
   "id": "3fbe3719",
   "metadata": {},
   "outputs": [],
   "source": []
  }
 ],
 "metadata": {
  "kernelspec": {
   "display_name": "fapergs",
   "language": "python",
   "name": "python3"
  },
  "language_info": {
   "codemirror_mode": {
    "name": "ipython",
    "version": 3
   },
   "file_extension": ".py",
   "mimetype": "text/x-python",
   "name": "python",
   "nbconvert_exporter": "python",
   "pygments_lexer": "ipython3",
   "version": "3.11.0"
  }
 },
 "nbformat": 4,
 "nbformat_minor": 5
}
