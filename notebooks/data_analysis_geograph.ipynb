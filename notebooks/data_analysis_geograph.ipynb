{
 "cells": [
  {
   "cell_type": "code",
   "execution_count": null,
   "id": "c4b1b104",
   "metadata": {},
   "outputs": [],
   "source": [
    "import geopandas as gpd\n",
    "import pandas as pd\n",
    "\n",
    "from pathlib import Path\n",
    "import unicodedata\n",
    "import matplotlib.pyplot as plt\n",
    "import matplotlib.colors as mcolors\n",
    "import matplotlib\n",
    "import numpy as np\n",
    "import seaborn as sns\n",
    "\n",
    "import requests\n",
    "import zipfile\n",
    "import io"
   ]
  },
  {
   "cell_type": "code",
   "execution_count": null,
   "id": "686fa770",
   "metadata": {},
   "outputs": [],
   "source": [
    "# URL of the zip file\n",
    "url = \"https://geoftp.ibge.gov.br/organizacao_do_territorio/malhas_territoriais/malhas_municipais/municipio_2024/UFs/RS/RS_Municipios_2024.zip\"\n",
    "\n",
    "# Folder to extract files\n",
    "extract_to = Path(\"../data/shapefile_rs\").resolve()\n",
    "extract_to.mkdir(exist_ok=True, parents=True)\n",
    "\n",
    "# Download file\n",
    "response = requests.get(url)\n",
    "response.raise_for_status()\n",
    "\n",
    "# Unzip file\n",
    "with zipfile.ZipFile(io.BytesIO(response.content)) as z:\n",
    "    z.extractall(extract_to)\n",
    "\n",
    "print(f\"Files extracted to: {extract_to}\")\n"
   ]
  },
  {
   "cell_type": "code",
   "execution_count": null,
   "id": "c01a6c57",
   "metadata": {},
   "outputs": [],
   "source": [
    "# Load data\n",
    "client_data_path = Path(\"../data/processed/clientes.csv\")\n",
    "client_data = pd.read_csv(client_data_path)\n",
    "\n",
    "# Load geographic boundaries of cities in RS\n",
    "cities_path = Path(\"../data/shapefile_rs/RS_Municipios_2024.shp\")\n",
    "gdf = gpd.read_file(cities_path)"
   ]
  },
  {
   "cell_type": "code",
   "execution_count": null,
   "id": "950161aa",
   "metadata": {},
   "outputs": [],
   "source": [
    "client_data[\"Município\"].value_counts()"
   ]
  },
  {
   "cell_type": "code",
   "execution_count": null,
   "id": "e81269db",
   "metadata": {},
   "outputs": [],
   "source": [
    "gdf[\"NM_MUN\"]"
   ]
  },
  {
   "cell_type": "code",
   "execution_count": null,
   "id": "56000e1c",
   "metadata": {},
   "outputs": [],
   "source": [
    "def normalize(text):\n",
    "    if pd.isnull(text):\n",
    "        return \"\"\n",
    "    # Remove accents\n",
    "    text = unicodedata.normalize('NFKD', text).encode('ASCII', 'ignore').decode('utf-8')\n",
    "    # Convert to uppercase and strip whitespace\n",
    "    return text.upper().strip()\n",
    "\n",
    "# apply to client data\n",
    "client_data[\"city\"] = client_data[\"Município\"].apply(normalize)\n",
    "# apply to IBGE database\n",
    "gdf[\"city\"] = gdf[\"NM_MUN\"].apply(normalize)\n",
    "\n",
    "\n"
   ]
  },
  {
   "cell_type": "code",
   "execution_count": null,
   "id": "8d2ec1f2",
   "metadata": {},
   "outputs": [],
   "source": [
    "city_counts = client_data[\"city\"].value_counts().reset_index()\n",
    "merged = gdf.merge(city_counts, how=\"left\", on=\"city\").fillna(0)"
   ]
  },
  {
   "cell_type": "code",
   "execution_count": null,
   "id": "f7a42c05",
   "metadata": {},
   "outputs": [],
   "source": [
    "\n",
    "base_cmap = matplotlib.colormaps[\"Blues\"]\n",
    "new_colors = base_cmap(np.linspace(0.3, 1, 256))\n",
    "\n",
    "# Set the first color (for 0 values) to white\n",
    "new_colors[0] = [1, 1, 1, 1]  # RGBA for white\n",
    "custom_cmap = mcolors.ListedColormap(new_colors)\n",
    "\n",
    "# Normalize the data so 0 maps to white and higher values start visibly red\n",
    "norm = mcolors.Normalize(vmin=0, vmax=merged['count'].max())\n",
    "\n",
    "fig, ax = plt.subplots(1,1, figsize=(8,8))\n",
    "merged.plot(column=\"count\", ax=ax, legend=True, cmap=custom_cmap, edgecolor=\"black\")\n",
    "ax.set_title(\"Distribuição das cidades no RS\")\n",
    "ax.axis(\"off\")\n",
    "fig.savefig(\"../plots/clientes_mapa.png\", transparent=True)\n",
    "plt.show()\n"
   ]
  },
  {
   "cell_type": "code",
   "execution_count": null,
   "id": "a8257e40",
   "metadata": {},
   "outputs": [],
   "source": [
    "len(city_counts[\"city\"].unique())"
   ]
  },
  {
   "cell_type": "code",
   "execution_count": null,
   "id": "24c4a33c",
   "metadata": {},
   "outputs": [],
   "source": [
    "city_counts_f = city_counts.iloc[:30]\n",
    "\n",
    "custom_cmap = mcolors.ListedColormap(new_colors[1:])\n",
    "\n",
    "fig, ax = plt.subplots(figsize=(7, 8))\n",
    "sns.barplot(city_counts_f, x=\"count\", y=\"city\", hue=\"count\", palette=custom_cmap, ax=ax)\n",
    "# Add value labels to the right of each bar\n",
    "for i, row in city_counts_f.iterrows():\n",
    "    ax.text(\n",
    "        row['count'] + 1,       # X position: slightly to the right of the bar\n",
    "        i,                      # Y position (bar index)\n",
    "        int(row['count']),      # Text (value)\n",
    "        va='center',            # Vertical alignment\n",
    "        ha='left',              # Horizontal alignment\n",
    "        fontsize=9\n",
    "    )\n",
    "\n",
    "# Optional styling\n",
    "ax.set_xlabel(\"Numero de Clientes\")\n",
    "ax.set_ylabel(\"Cidade\")\n",
    "ax.set_title(\"Top 30 cidades em número de clientes\")\n",
    "fig.savefig(\"../plots/clientes_top30.png\", transparent=True)\n",
    "plt.tight_layout()\n",
    "plt.show()"
   ]
  },
  {
   "cell_type": "code",
   "execution_count": null,
   "id": "6dd5cf52",
   "metadata": {},
   "outputs": [],
   "source": []
  }
 ],
 "metadata": {
  "kernelspec": {
   "display_name": "fapergs",
   "language": "python",
   "name": "python3"
  },
  "language_info": {
   "codemirror_mode": {
    "name": "ipython",
    "version": 3
   },
   "file_extension": ".py",
   "mimetype": "text/x-python",
   "name": "python",
   "nbconvert_exporter": "python",
   "pygments_lexer": "ipython3",
   "version": "3.11.0"
  }
 },
 "nbformat": 4,
 "nbformat_minor": 5
}
