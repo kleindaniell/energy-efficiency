{
 "cells": [
  {
   "cell_type": "code",
   "execution_count": 61,
   "metadata": {},
   "outputs": [],
   "source": [
    "import numpy as np\n",
    "import pandas as pd\n",
    "import matplotlib.pyplot as plt \n",
    "import seaborn as sns\n",
    "import plotly.express as px "
   ]
  },
  {
   "cell_type": "code",
   "execution_count": 57,
   "metadata": {},
   "outputs": [],
   "source": [
    "sim_lenght = 5\n",
    "dt = 0.01\n",
    "num_inter = int(sim_lenght/dt)\n",
    "5\n",
    "p1 = np.zeros(num_inter)\n",
    "p1[0] = 20\n",
    "\n",
    "p2 = np.zeros(num_inter)\n",
    "p2[0] = 15\n",
    "\n",
    "b1 = 1\n",
    "b2 = 1\n",
    "d1 = 0.27\n",
    "d2 = 0.2\n",
    "\n",
    "x_axis = np.arange(0, sim_lenght, dt)"
   ]
  },
  {
   "cell_type": "code",
   "execution_count": 58,
   "metadata": {},
   "outputs": [],
   "source": [
    "for i in range(num_inter - 1):\n",
    "    p1_change = b1*p1[i] - d1*p1[i]*p2[i]\n",
    "    p1[i+1] = p1[i] + p1_change*dt\n",
    "\n",
    "    p2_change = b2*p2[i] - d2*p2[i]*p1[i]\n",
    "    p2[i+1] = p2[i] + p2_change*dt"
   ]
  },
  {
   "cell_type": "code",
   "execution_count": null,
   "metadata": {},
   "outputs": [],
   "source": [
    "plt.plot(x_axis, p1)\n",
    "plt.plot(x_axis, p2)\n",
    "plt.legend([\"p1\", \"p2\"])"
   ]
  },
  {
   "cell_type": "code",
   "execution_count": null,
   "metadata": {},
   "outputs": [],
   "source": []
  }
 ],
 "metadata": {
  "kernelspec": {
   "display_name": "energy-sd",
   "language": "python",
   "name": "python3"
  },
  "language_info": {
   "codemirror_mode": {
    "name": "ipython",
    "version": 3
   },
   "file_extension": ".py",
   "mimetype": "text/x-python",
   "name": "python",
   "nbconvert_exporter": "python",
   "pygments_lexer": "ipython3",
   "version": "3.11.0"
  }
 },
 "nbformat": 4,
 "nbformat_minor": 2
}
